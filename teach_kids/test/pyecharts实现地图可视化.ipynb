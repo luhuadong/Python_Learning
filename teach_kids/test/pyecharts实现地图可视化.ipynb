{
 "cells": [
  {
   "cell_type": "code",
   "execution_count": 3,
   "metadata": {},
   "outputs": [],
   "source": [
    "from pyecharts import Map, Geo"
   ]
  },
  {
   "cell_type": "code",
   "execution_count": 75,
   "metadata": {},
   "outputs": [],
   "source": [
    "# 世界地图数据\n",
    "\n",
    "value = [95.1, 23.2, 43.3, 66.4, 88.5]\n",
    "attr = [\"China\", \"Canada\", \"Brazil\", \"Russia\", \"United States\"]\n",
    "\n",
    "map0 = Map(\"世界地图示例\", width=1200, height=600)\n",
    "map0.add(\"世界地图\", attr, value, maptype=\"world\", \n",
    "         is_visualmap=True, visual_text_color='#000')\n",
    "map0.render(path=\"./data/04-00世界地图.html\")"
   ]
  },
  {
   "cell_type": "markdown",
   "metadata": {},
   "source": [
    "## 全国压岁钱地图"
   ]
  },
  {
   "cell_type": "code",
   "execution_count": 76,
   "metadata": {},
   "outputs": [],
   "source": [
    "# 省和直辖市\n",
    "\n",
    "data = {'河南':400, '北京':2900, '河北':800, '辽宁':500, '江西':500, \n",
    "        '上海':1600, '安徽':800, '江苏':1000, '湖南':800, '浙江':3100, \n",
    "        '海南':400, '湖北':400, '黑龙江':500, '四川':800, '重庆':500, \n",
    "        '广东':50, '澳门':600, '香港':850, '台湾': 660, '陕西':400,\n",
    "        '内蒙古':300, '云南':400, '贵州':300, '吉林':500, '山西':300, \n",
    "        '山东':800, '福建':3500, '青海':300, '天津':1000, '西藏':300, \n",
    "        '新疆':500, '甘肃':400, '宁夏':500, '广西':300}\n",
    "\n",
    "province = list(data.keys())\n",
    "values = list(data.values())\n",
    "\n",
    "map = Map(\"全国压岁钱地图\", '中国地图', width=1000, height=800)\n",
    "# maptype='china'\n",
    "map.add(\"\", province, values, visual_range=[0, 1000], maptype='china', \n",
    "        is_visualmap=True, visual_text_color='#000', is_label_show=True)\n",
    "#map.show_config()\n",
    "map.render(path=\"./data/04-01中国地图.html\")"
   ]
  },
  {
   "cell_type": "markdown",
   "metadata": {},
   "source": [
    "## 河南商丘"
   ]
  },
  {
   "cell_type": "code",
   "execution_count": 11,
   "metadata": {},
   "outputs": [],
   "source": [
    "# 城市 -- 指定省的城市 xx市\n",
    "city = ['郑州市', '安阳市', '洛阳市', '濮阳市', '南阳市', '开封市', '商丘市', '信阳市', '新乡市']\n",
    "values2 = [1.07, 3.85, 6.38, 8.21, 2.53, 4.37, 9.38, 4.29, 6.1]\n",
    "\n",
    "\n",
    "# 河南地图  数据必须是省内放入城市名\n",
    "map2 = Map(\"河南地图\",'河南', width=1200, height=600)\n",
    "map2.add('河南', city, values2, visual_range=[1, 10], maptype='河南', is_visualmap=True, visual_text_color='#000')\n",
    "#map2.show_config()\n",
    "map2.render(path=\"./data/04-02河南地图.html\")"
   ]
  },
  {
   "cell_type": "code",
   "execution_count": 12,
   "metadata": {},
   "outputs": [],
   "source": [
    "# 区县 -- 具体城市内的区县  xx县\n",
    "quxian = ['夏邑县', '民权县', '梁园区', '睢阳区', '柘城县', '宁陵县']\n",
    "values3 = [3, 5, 7, 8, 2, 4]\n",
    "\n",
    "# # 商丘地图 数据为商丘市下的区县\n",
    "map3 = Map(\"商丘地图\",'商丘', width=1200, height=600)\n",
    "map3.add(\"商丘\", quxian, values3, visual_range=[1, 10], maptype='商丘', is_visualmap=True,\n",
    "    visual_text_color='#000')\n",
    "map3.render(path=\"./data/04-03商丘地图.html\")"
   ]
  },
  {
   "cell_type": "markdown",
   "metadata": {},
   "source": [
    "## 江西丰城"
   ]
  },
  {
   "cell_type": "code",
   "execution_count": 20,
   "metadata": {},
   "outputs": [],
   "source": [
    "# 城市 -- 指定省的城市 xx市\n",
    "city = ['南昌市', '宜春市', '赣州市', '抚州市', '鹰潭市', '吉安市']\n",
    "values2 = [1.07, 3.85, 6.38, 8.21, 2.53, 4.37]\n",
    "\n",
    "\n",
    "# 江西地图  数据必须是省内放入城市名\n",
    "map2 = Map(\"江西地图\",'江西', width=1200, height=600)\n",
    "map2.add('江西', city, values2, visual_range=[1, 10], maptype='江西', is_visualmap=True, visual_text_color='#000')\n",
    "#map2.show_config()\n",
    "map2.render(path=\"./data/04-04江西地图.html\")\n",
    "\n",
    "\n",
    "quxian = ['丰城市', '靖安县', '宜丰县']\n",
    "values3 = [3, 4, 5]\n",
    "\n",
    "# # 商丘地图 数据为商丘市下的区县\n",
    "map3 = Map(\"宜春地图\",'宜春', width=1200, height=600)\n",
    "map3.add(\"宜春\", quxian, values3, visual_range=[1, 10], maptype='宜春', is_visualmap=True,\n",
    "    visual_text_color='#000')\n",
    "map3.render(path=\"./data/04-05宜春地图.html\")"
   ]
  },
  {
   "cell_type": "markdown",
   "metadata": {},
   "source": [
    "## 广东清远"
   ]
  },
  {
   "cell_type": "code",
   "execution_count": 77,
   "metadata": {},
   "outputs": [],
   "source": [
    "# 粤港澳大湾区，按2018年人均 GDP 排名\n",
    "\n",
    "cities = ['深圳市', '珠海市', '广州市', '佛山市', '中山市', '东莞市', '惠州市', \n",
    "        '江门市', '肇庆市', '阳江市', '茂名市', '韶关市', '汕头市', '湛江市', \n",
    "        '清远市', '潮州市', '揭阳市', '云浮市', '河源市', '汕尾市', '梅州市']\n",
    "# 单位：万元（人民币）\n",
    "avgGDP = [19.33, 16.51, 15.77, 12.98, 11.14,  9.92,  8.59, \n",
    "           6.36,  5.35,  5.31,  4.98,  4.51,  4.48,  4.12, \n",
    "           4.05,  4.03,  3.54,  3.39,  3.25,  3.01,  2.54]\n",
    "\n",
    "\n",
    "# 广东地图  数据必须是省内放入城市名\n",
    "map2 = Map('2018年广东各城市人均GDP排名','广东地图', width=1000, height=800)\n",
    "map2.add('广东', cities, avgGDP, visual_range=[0, 20], maptype='广东', \n",
    "         is_visualmap=True, visual_text_color='#000', is_label_show=True)\n",
    "#map2.show_config()\n",
    "map2.render(path=\"./data/04-06广东地图.html\")\n",
    "\n",
    "\n",
    "counties = ['清城区', '清新区', '佛冈县', '英德市', '阳山县', \n",
    "            '连州市', '连南瑶族自治县', '连山壮族瑶族自治县']\n",
    "\n",
    "# 2019年2月各县区房价排行\n",
    "prices = [9343, 8172, 7950, 7360, 6500, 6383, 4000, 4000]\n",
    "\n",
    "# # 清远地图 数据为清远市下的区县\n",
    "map3 = Map('2019年2月各县区房价热力图','清远地图', width=1000, height=800)\n",
    "map3.add(\"清远\", counties, prices, visual_range=[4000, 11000], maptype='清远', \n",
    "         is_visualmap=True, visual_text_color='#000', is_label_show=True)\n",
    "map3.render(path=\"./data/04-07清远地图.html\")"
   ]
  },
  {
   "cell_type": "markdown",
   "metadata": {},
   "source": [
    "## 全国主要城市空气质量"
   ]
  },
  {
   "cell_type": "code",
   "execution_count": 82,
   "metadata": {},
   "outputs": [],
   "source": [
    "data = [(u'广州', 80), (u'漳州', 180)]\n",
    "geo = Geo(\"全国主要城市空气质量\", \"data from pm2.5\")\n",
    "attr, value = geo.cast(data)\n",
    "geo.add(\"city\", attr, value, visual_range=[0, 200], maptype='china', \n",
    "        visual_text_color='#fff', symbol_size=10, is_visualmap=True)\n",
    "\n",
    "#geo.show_config()\n",
    "geo.render(path=\"./data/04-08全国主要城市空气质量.html\")"
   ]
  },
  {
   "cell_type": "code",
   "execution_count": null,
   "metadata": {},
   "outputs": [],
   "source": []
  }
 ],
 "metadata": {
  "kernelspec": {
   "display_name": "Python 3",
   "language": "python",
   "name": "python3"
  },
  "language_info": {
   "codemirror_mode": {
    "name": "ipython",
    "version": 3
   },
   "file_extension": ".py",
   "mimetype": "text/x-python",
   "name": "python",
   "nbconvert_exporter": "python",
   "pygments_lexer": "ipython3",
   "version": "3.7.1"
  }
 },
 "nbformat": 4,
 "nbformat_minor": 2
}
