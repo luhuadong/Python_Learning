{
 "cells": [
  {
   "cell_type": "code",
   "execution_count": 1,
   "metadata": {},
   "outputs": [],
   "source": [
    "import numpy as np\n",
    "from collections import Counter"
   ]
  },
  {
   "cell_type": "markdown",
   "metadata": {},
   "source": [
    "### 封装函数：计算明可夫斯基距离"
   ]
  },
  {
   "cell_type": "code",
   "execution_count": 2,
   "metadata": {},
   "outputs": [],
   "source": [
    "def distance(a, b, p=2):\n",
    "    '''计算距离'''\n",
    "    return np.sum(np.abs(a - b) ** p) ** (1 / p)"
   ]
  },
  {
   "cell_type": "markdown",
   "metadata": {},
   "source": [
    "### 封装函数：kNN 分类算法"
   ]
  },
  {
   "cell_type": "code",
   "execution_count": 3,
   "metadata": {},
   "outputs": [],
   "source": [
    "def kNN_classify(X_train, y_train, X_predict, k=5, p=2):\n",
    "    '''kNN分类器'''\n",
    "\n",
    "    assert k > 0, 'k需要大于0'\n",
    "    assert k <= y_train.shape[0], 'k需要小于或等于总的样本数'\n",
    "    assert p > 0, 'p需要大于0'\n",
    "    assert X_train.shape[0] == y_train.shape[0], 'X_train中样本数量需要与y_train的数量相同'\n",
    "    assert X_train.shape[1] == X_predict.shape[1], '预测的特征数量需要等于样本的特征数量'\n",
    "\n",
    "    return np.array([_predict(X_train, y_train, x, k, p) for x in X_predict])\n",
    "\n",
    "\n",
    "def _predict(X_train, y_train, x, k, p):\n",
    "\n",
    "    # 计算测试点与训练数据集中每个点的距离\n",
    "    distances = [distance(item, x, p=p) for item in X_train]\n",
    "    # 选取最近的 k 个点\n",
    "    nearest = np.argsort(distances)[:k]\n",
    "    k_labels = y_train[nearest]\n",
    "\n",
    "    # 返回最近 k 个点中类别最多的点的类别\n",
    "    return Counter(k_labels).most_common(1)[0][0]\n"
   ]
  },
  {
   "cell_type": "markdown",
   "metadata": {},
   "source": [
    "导入留出法分离训练数据集和测试数据集"
   ]
  },
  {
   "cell_type": "code",
   "execution_count": 4,
   "metadata": {},
   "outputs": [],
   "source": [
    "from ML.model_selection import train_test_split"
   ]
  },
  {
   "cell_type": "markdown",
   "metadata": {},
   "source": [
    "使用鸢尾花数据"
   ]
  },
  {
   "cell_type": "code",
   "execution_count": 5,
   "metadata": {},
   "outputs": [],
   "source": [
    "X = np.loadtxt('data/iris/x.txt')\n",
    "y = np.loadtxt('data/iris/y.txt')\n",
    "X_train, X_test, y_train, y_test = train_test_split(X, y, test_size=0.25, seed=1)"
   ]
  },
  {
   "cell_type": "markdown",
   "metadata": {},
   "source": [
    "### 预测"
   ]
  },
  {
   "cell_type": "code",
   "execution_count": 6,
   "metadata": {},
   "outputs": [
    {
     "data": {
      "text/plain": [
       "array([0., 1., 1., 0., 2., 1., 2., 0., 0., 2., 1., 0., 2., 1., 1., 0., 1.,\n",
       "       1., 0., 0., 1., 1., 1., 0., 2., 1., 0., 0., 1., 2., 1., 2., 1., 2.,\n",
       "       2., 0., 1.])"
      ]
     },
     "execution_count": 6,
     "metadata": {},
     "output_type": "execute_result"
    }
   ],
   "source": [
    "y_predict = kNN_classify(X_train, y_train, X_test)\n",
    "y_predict"
   ]
  },
  {
   "cell_type": "markdown",
   "metadata": {},
   "source": [
    "计算分类准确率"
   ]
  },
  {
   "cell_type": "code",
   "execution_count": 7,
   "metadata": {},
   "outputs": [
    {
     "data": {
      "text/plain": [
       "1.0"
      ]
     },
     "execution_count": 7,
     "metadata": {},
     "output_type": "execute_result"
    }
   ],
   "source": [
    "sum(np.array(y_predict) == y_test) / len(X_test)"
   ]
  },
  {
   "cell_type": "code",
   "execution_count": null,
   "metadata": {},
   "outputs": [],
   "source": []
  }
 ],
 "metadata": {
  "kernelspec": {
   "display_name": "Python 3",
   "language": "python",
   "name": "python3"
  },
  "language_info": {
   "codemirror_mode": {
    "name": "ipython",
    "version": 3
   },
   "file_extension": ".py",
   "mimetype": "text/x-python",
   "name": "python",
   "nbconvert_exporter": "python",
   "pygments_lexer": "ipython3",
   "version": "3.5.2"
  }
 },
 "nbformat": 4,
 "nbformat_minor": 2
}
