{
 "cells": [
  {
   "cell_type": "code",
   "execution_count": 1,
   "metadata": {},
   "outputs": [],
   "source": [
    "import numpy as np\n",
    "from collections import Counter\n",
    "import matplotlib.pyplot as plt"
   ]
  },
  {
   "cell_type": "markdown",
   "metadata": {},
   "source": [
    "### 导入计算基尼系数的函数"
   ]
  },
  {
   "cell_type": "code",
   "execution_count": 2,
   "metadata": {},
   "outputs": [],
   "source": [
    "def gini(y):\n",
    "    \"\"\" 计算基尼系数 \"\"\"\n",
    "    counter = Counter(y)\n",
    "    result = 0\n",
    "    for v in counter.values():\n",
    "        # 计算每个种类概率的平方和\n",
    "        result += (v/len(y))**2\n",
    "    return 1-result"
   ]
  },
  {
   "cell_type": "code",
   "execution_count": 3,
   "metadata": {},
   "outputs": [],
   "source": [
    "def cut(X, y, d, v):\n",
    "    \"\"\" 按d,v值切割X,y数据集 \"\"\"\n",
    "    \n",
    "    ind_left = (X[:, d] <= v)\n",
    "    ind_right = (X[:, d] > v)\n",
    "    return X[ind_left], X[ind_right], y[ind_left], y[ind_right]\n",
    "\n",
    "\n",
    "def try_split(X, y):\n",
    "    \"\"\" 对于X,y数据集，按最佳的基尼系数分割点进行分割，并返回最佳的d,v,g \"\"\"\n",
    "    \n",
    "    best_g = 1\n",
    "    best_d = -1\n",
    "    best_v = -1\n",
    "    \n",
    "    for d in range(X.shape[1]):\n",
    "        sorted_index = np.argsort(X[:, d])\n",
    "        for i in range(len(X)-1):\n",
    "            \n",
    "            if X[sorted_index[i], d] == X[sorted_index[i+1], d]:\n",
    "                continue\n",
    "            \n",
    "            v = (X[sorted_index[i], d] + X[sorted_index[i+1], d]) / 2\n",
    "            #print('d={}, v={}'.format(d, v))\n",
    "            \n",
    "            X_left, X_right, y_left, y_right = cut(X, y, d, v)\n",
    "            g_all = gini(y_left) + gini(y_right)\n",
    "            \n",
    "            #print('d={}, v={}, g={}'.format(d, v, g_all))\n",
    "            \n",
    "            if g_all < best_g:\n",
    "                best_g = g_all\n",
    "                best_d = d\n",
    "                best_v = v\n",
    "                \n",
    "    return best_d, best_v, best_g"
   ]
  },
  {
   "cell_type": "code",
   "execution_count": 4,
   "metadata": {},
   "outputs": [
    {
     "data": {
      "text/plain": [
       "(0, 2.45, 0.5)"
      ]
     },
     "execution_count": 4,
     "metadata": {},
     "output_type": "execute_result"
    }
   ],
   "source": [
    "X = np.loadtxt('data/iris/x.txt')\n",
    "X = X[:, 2:]  # 只取后两个维度的数据\n",
    "y = np.loadtxt('data/iris/y.txt')\n",
    "try_split(X, y)"
   ]
  },
  {
   "cell_type": "markdown",
   "metadata": {},
   "source": [
    "### 定义 Node 节点类"
   ]
  },
  {
   "cell_type": "code",
   "execution_count": 5,
   "metadata": {},
   "outputs": [],
   "source": [
    "class Node():\n",
    "    def __init__(self, d=None, v=None, g=None, l=None):\n",
    "        self.dim   = d\n",
    "        self.value = v\n",
    "        self.gini  = g\n",
    "        self.label = l\n",
    "        \n",
    "        self.children_left  = None\n",
    "        self.children_right = None\n",
    "        \n",
    "    def __repr__(self):\n",
    "        return 'Node(d={}, v={}, g={}, l={})'.format(self.dim, self.value, self.gini, self.label)"
   ]
  },
  {
   "cell_type": "markdown",
   "metadata": {},
   "source": [
    "### 构建决策树"
   ]
  },
  {
   "cell_type": "code",
   "execution_count": 6,
   "metadata": {},
   "outputs": [],
   "source": [
    "def create_tree(X, y):\n",
    "    \"\"\" 递归构建决策树 \"\"\"\n",
    "    \n",
    "    d, v, g = try_split(X, y)\n",
    "    \n",
    "    if d==-1 or g==0:\n",
    "        return None\n",
    "    \n",
    "    node = Node(d, v, g)\n",
    "    \n",
    "    X_left, X_right, y_left, y_right = cut(X, y, d, v)\n",
    "    \n",
    "    node.children_left = create_tree(X_left, y_left)\n",
    "    if node.children_left is None:\n",
    "        lable = Counter(y_left).most_common(1)[0][0]\n",
    "        node.children_left = Node(l=lable)\n",
    "    \n",
    "    node.children_right = create_tree(X_right, y_right)\n",
    "    if node.children_right is None:\n",
    "        lable = Counter(y_right).most_common(1)[0][0]\n",
    "        node.children_right = Node(l=lable)\n",
    "    \n",
    "    return node"
   ]
  },
  {
   "cell_type": "code",
   "execution_count": 7,
   "metadata": {},
   "outputs": [
    {
     "data": {
      "text/plain": [
       "Node(d=0, v=2.45, g=0.5, l=None)"
      ]
     },
     "execution_count": 7,
     "metadata": {},
     "output_type": "execute_result"
    }
   ],
   "source": [
    "tree = create_tree(X, y)\n",
    "tree"
   ]
  },
  {
   "cell_type": "markdown",
   "metadata": {},
   "source": [
    "### 使用决策树进行预测"
   ]
  },
  {
   "cell_type": "code",
   "execution_count": 8,
   "metadata": {},
   "outputs": [],
   "source": [
    "def predict(x, node):\n",
    "    \"\"\" 返回数据点x在决策树node中的预测类别 \"\"\"\n",
    "    \n",
    "    if node.label is not None:\n",
    "        return node.label\n",
    "    \n",
    "    if x[node.dim] <= node.value:\n",
    "        # left\n",
    "        return predict(x, node.children_left)\n",
    "    else:\n",
    "        # right\n",
    "        return predict(x, node.children_right)"
   ]
  },
  {
   "cell_type": "markdown",
   "metadata": {},
   "source": [
    "测试"
   ]
  },
  {
   "cell_type": "code",
   "execution_count": 9,
   "metadata": {},
   "outputs": [
    {
     "data": {
      "text/plain": [
       "0.0"
      ]
     },
     "execution_count": 9,
     "metadata": {},
     "output_type": "execute_result"
    }
   ],
   "source": [
    "predict(X[0], tree)"
   ]
  },
  {
   "cell_type": "code",
   "execution_count": 10,
   "metadata": {},
   "outputs": [
    {
     "data": {
      "text/plain": [
       "1.0"
      ]
     },
     "execution_count": 10,
     "metadata": {},
     "output_type": "execute_result"
    }
   ],
   "source": [
    "predict(X[66], tree)"
   ]
  },
  {
   "cell_type": "code",
   "execution_count": 11,
   "metadata": {},
   "outputs": [
    {
     "data": {
      "text/plain": [
       "2.0"
      ]
     },
     "execution_count": 11,
     "metadata": {},
     "output_type": "execute_result"
    }
   ],
   "source": [
    "predict(X[102], tree)"
   ]
  },
  {
   "cell_type": "code",
   "execution_count": null,
   "metadata": {},
   "outputs": [],
   "source": []
  }
 ],
 "metadata": {
  "kernelspec": {
   "display_name": "Python 3",
   "language": "python",
   "name": "python3"
  },
  "language_info": {
   "codemirror_mode": {
    "name": "ipython",
    "version": 3
   },
   "file_extension": ".py",
   "mimetype": "text/x-python",
   "name": "python",
   "nbconvert_exporter": "python",
   "pygments_lexer": "ipython3",
   "version": "3.5.2"
  }
 },
 "nbformat": 4,
 "nbformat_minor": 2
}
