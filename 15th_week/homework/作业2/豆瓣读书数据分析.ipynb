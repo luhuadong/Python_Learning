{
 "cells": [
  {
   "cell_type": "markdown",
   "metadata": {},
   "source": [
    "# 豆瓣读书数据分析"
   ]
  },
  {
   "cell_type": "code",
   "execution_count": 1,
   "metadata": {},
   "outputs": [],
   "source": [
    "import numpy as np\n",
    "import pandas as pd\n",
    "import matplotlib.pyplot as plt\n",
    "\n",
    "plt.rc('font', **{'family':'SimHei'})"
   ]
  },
  {
   "cell_type": "markdown",
   "metadata": {},
   "source": [
    "## 导入数据"
   ]
  },
  {
   "cell_type": "code",
   "execution_count": 2,
   "metadata": {},
   "outputs": [
    {
     "data": {
      "text/html": [
       "<div>\n",
       "<style scoped>\n",
       "    .dataframe tbody tr th:only-of-type {\n",
       "        vertical-align: middle;\n",
       "    }\n",
       "\n",
       "    .dataframe tbody tr th {\n",
       "        vertical-align: top;\n",
       "    }\n",
       "\n",
       "    .dataframe thead th {\n",
       "        text-align: right;\n",
       "    }\n",
       "</style>\n",
       "<table border=\"1\" class=\"dataframe\">\n",
       "  <thead>\n",
       "    <tr style=\"text-align: right;\">\n",
       "      <th></th>\n",
       "      <th>书名</th>\n",
       "      <th>作者</th>\n",
       "      <th>出版社</th>\n",
       "      <th>出版时间</th>\n",
       "      <th>页数</th>\n",
       "      <th>价格</th>\n",
       "      <th>ISBN</th>\n",
       "      <th>评分</th>\n",
       "      <th>评论数量</th>\n",
       "      <th>Unnamed: 9</th>\n",
       "    </tr>\n",
       "  </thead>\n",
       "  <tbody>\n",
       "    <tr>\n",
       "      <th>0</th>\n",
       "      <td>因扎吉传记 SUPERPIPPO</td>\n",
       "      <td>Mauro Suma</td>\n",
       "      <td>ECO Sport</td>\n",
       "      <td>2008/</td>\n",
       "      <td>224</td>\n",
       "      <td>O 14.5</td>\n",
       "      <td>9788881133581</td>\n",
       "      <td>9.4</td>\n",
       "      <td>69</td>\n",
       "      <td>NaN</td>\n",
       "    </tr>\n",
       "    <tr>\n",
       "      <th>1</th>\n",
       "      <td>中国武侠小说史论</td>\n",
       "      <td>叶洪生</td>\n",
       "      <td>None</td>\n",
       "      <td>1905-03-14 00:00:00</td>\n",
       "      <td>None</td>\n",
       "      <td>None</td>\n",
       "      <td>9787811074710</td>\n",
       "      <td>0.0</td>\n",
       "      <td>None</td>\n",
       "      <td>NaN</td>\n",
       "    </tr>\n",
       "    <tr>\n",
       "      <th>2</th>\n",
       "      <td>How to cook and eat in Chinese</td>\n",
       "      <td>杨步伟</td>\n",
       "      <td>The John Day company</td>\n",
       "      <td>1905-04-28 00:00:00</td>\n",
       "      <td>262</td>\n",
       "      <td>None</td>\n",
       "      <td>9780394717036</td>\n",
       "      <td>0.0</td>\n",
       "      <td>None</td>\n",
       "      <td>NaN</td>\n",
       "    </tr>\n",
       "    <tr>\n",
       "      <th>3</th>\n",
       "      <td>吐鲁番考古记</td>\n",
       "      <td>黄文弼</td>\n",
       "      <td>中国科学院出版社</td>\n",
       "      <td>1905-05-07 00:00:00</td>\n",
       "      <td>208</td>\n",
       "      <td>None</td>\n",
       "      <td>None</td>\n",
       "      <td>0.0</td>\n",
       "      <td>None</td>\n",
       "      <td>NaN</td>\n",
       "    </tr>\n",
       "    <tr>\n",
       "      <th>4</th>\n",
       "      <td>塞瓦斯托波尔故事</td>\n",
       "      <td>列夫·托尔斯泰</td>\n",
       "      <td>新文艺出版社</td>\n",
       "      <td>1905-05-08 00:00:00</td>\n",
       "      <td>172</td>\n",
       "      <td>None</td>\n",
       "      <td>None</td>\n",
       "      <td>0.0</td>\n",
       "      <td>None</td>\n",
       "      <td>NaN</td>\n",
       "    </tr>\n",
       "  </tbody>\n",
       "</table>\n",
       "</div>"
      ],
      "text/plain": [
       "                               书名          作者                    出版社  \\\n",
       "0                因扎吉传记 SUPERPIPPO  Mauro Suma              ECO Sport   \n",
       "1                        中国武侠小说史论         叶洪生                   None   \n",
       "2  How to cook and eat in Chinese         杨步伟   The John Day company   \n",
       "3                          吐鲁番考古记         黄文弼               中国科学院出版社   \n",
       "4                        塞瓦斯托波尔故事     列夫·托尔斯泰                 新文艺出版社   \n",
       "\n",
       "                  出版时间    页数      价格           ISBN   评分  评论数量 Unnamed: 9  \n",
       "0                2008/   224  O 14.5  9788881133581  9.4    69        NaN  \n",
       "1  1905-03-14 00:00:00  None    None  9787811074710  0.0  None        NaN  \n",
       "2  1905-04-28 00:00:00   262    None  9780394717036  0.0  None        NaN  \n",
       "3  1905-05-07 00:00:00   208    None           None  0.0  None        NaN  \n",
       "4  1905-05-08 00:00:00   172    None           None  0.0  None        NaN  "
      ]
     },
     "execution_count": 2,
     "metadata": {},
     "output_type": "execute_result"
    }
   ],
   "source": [
    "# 导入数据\n",
    "\n",
    "df = pd.read_excel('books.xlsx')\n",
    "df.head()"
   ]
  },
  {
   "cell_type": "code",
   "execution_count": 3,
   "metadata": {},
   "outputs": [
    {
     "data": {
      "text/plain": [
       "60671"
      ]
     },
     "execution_count": 3,
     "metadata": {},
     "output_type": "execute_result"
    }
   ],
   "source": [
    "len(df)"
   ]
  },
  {
   "cell_type": "code",
   "execution_count": 4,
   "metadata": {},
   "outputs": [
    {
     "data": {
      "text/html": [
       "<div>\n",
       "<style scoped>\n",
       "    .dataframe tbody tr th:only-of-type {\n",
       "        vertical-align: middle;\n",
       "    }\n",
       "\n",
       "    .dataframe tbody tr th {\n",
       "        vertical-align: top;\n",
       "    }\n",
       "\n",
       "    .dataframe thead th {\n",
       "        text-align: right;\n",
       "    }\n",
       "</style>\n",
       "<table border=\"1\" class=\"dataframe\">\n",
       "  <thead>\n",
       "    <tr style=\"text-align: right;\">\n",
       "      <th></th>\n",
       "      <th>书名</th>\n",
       "      <th>作者</th>\n",
       "      <th>出版社</th>\n",
       "      <th>出版时间</th>\n",
       "      <th>页数</th>\n",
       "      <th>价格</th>\n",
       "      <th>ISBN</th>\n",
       "      <th>评分</th>\n",
       "      <th>评论数量</th>\n",
       "    </tr>\n",
       "  </thead>\n",
       "  <tbody>\n",
       "    <tr>\n",
       "      <th>0</th>\n",
       "      <td>因扎吉传记 SUPERPIPPO</td>\n",
       "      <td>Mauro Suma</td>\n",
       "      <td>ECO Sport</td>\n",
       "      <td>2008/</td>\n",
       "      <td>224</td>\n",
       "      <td>O 14.5</td>\n",
       "      <td>9788881133581</td>\n",
       "      <td>9.4</td>\n",
       "      <td>69</td>\n",
       "    </tr>\n",
       "    <tr>\n",
       "      <th>1</th>\n",
       "      <td>中国武侠小说史论</td>\n",
       "      <td>叶洪生</td>\n",
       "      <td>None</td>\n",
       "      <td>1905-03-14 00:00:00</td>\n",
       "      <td>None</td>\n",
       "      <td>None</td>\n",
       "      <td>9787811074710</td>\n",
       "      <td>0.0</td>\n",
       "      <td>None</td>\n",
       "    </tr>\n",
       "    <tr>\n",
       "      <th>2</th>\n",
       "      <td>How to cook and eat in Chinese</td>\n",
       "      <td>杨步伟</td>\n",
       "      <td>The John Day company</td>\n",
       "      <td>1905-04-28 00:00:00</td>\n",
       "      <td>262</td>\n",
       "      <td>None</td>\n",
       "      <td>9780394717036</td>\n",
       "      <td>0.0</td>\n",
       "      <td>None</td>\n",
       "    </tr>\n",
       "    <tr>\n",
       "      <th>3</th>\n",
       "      <td>吐鲁番考古记</td>\n",
       "      <td>黄文弼</td>\n",
       "      <td>中国科学院出版社</td>\n",
       "      <td>1905-05-07 00:00:00</td>\n",
       "      <td>208</td>\n",
       "      <td>None</td>\n",
       "      <td>None</td>\n",
       "      <td>0.0</td>\n",
       "      <td>None</td>\n",
       "    </tr>\n",
       "    <tr>\n",
       "      <th>4</th>\n",
       "      <td>塞瓦斯托波尔故事</td>\n",
       "      <td>列夫·托尔斯泰</td>\n",
       "      <td>新文艺出版社</td>\n",
       "      <td>1905-05-08 00:00:00</td>\n",
       "      <td>172</td>\n",
       "      <td>None</td>\n",
       "      <td>None</td>\n",
       "      <td>0.0</td>\n",
       "      <td>None</td>\n",
       "    </tr>\n",
       "  </tbody>\n",
       "</table>\n",
       "</div>"
      ],
      "text/plain": [
       "                               书名          作者                    出版社  \\\n",
       "0                因扎吉传记 SUPERPIPPO  Mauro Suma              ECO Sport   \n",
       "1                        中国武侠小说史论         叶洪生                   None   \n",
       "2  How to cook and eat in Chinese         杨步伟   The John Day company   \n",
       "3                          吐鲁番考古记         黄文弼               中国科学院出版社   \n",
       "4                        塞瓦斯托波尔故事     列夫·托尔斯泰                 新文艺出版社   \n",
       "\n",
       "                  出版时间    页数      价格           ISBN   评分  评论数量  \n",
       "0                2008/   224  O 14.5  9788881133581  9.4    69  \n",
       "1  1905-03-14 00:00:00  None    None  9787811074710  0.0  None  \n",
       "2  1905-04-28 00:00:00   262    None  9780394717036  0.0  None  \n",
       "3  1905-05-07 00:00:00   208    None           None  0.0  None  \n",
       "4  1905-05-08 00:00:00   172    None           None  0.0  None  "
      ]
     },
     "execution_count": 4,
     "metadata": {},
     "output_type": "execute_result"
    }
   ],
   "source": [
    "# 删除第9列\n",
    "\n",
    "df = df.drop('Unnamed: 9', axis=1)\n",
    "df.head()"
   ]
  },
  {
   "cell_type": "markdown",
   "metadata": {},
   "source": [
    "## 数据清洗"
   ]
  },
  {
   "cell_type": "code",
   "execution_count": 5,
   "metadata": {},
   "outputs": [
    {
     "data": {
      "text/html": [
       "<div>\n",
       "<style scoped>\n",
       "    .dataframe tbody tr th:only-of-type {\n",
       "        vertical-align: middle;\n",
       "    }\n",
       "\n",
       "    .dataframe tbody tr th {\n",
       "        vertical-align: top;\n",
       "    }\n",
       "\n",
       "    .dataframe thead th {\n",
       "        text-align: right;\n",
       "    }\n",
       "</style>\n",
       "<table border=\"1\" class=\"dataframe\">\n",
       "  <thead>\n",
       "    <tr style=\"text-align: right;\">\n",
       "      <th></th>\n",
       "      <th>评分</th>\n",
       "    </tr>\n",
       "  </thead>\n",
       "  <tbody>\n",
       "    <tr>\n",
       "      <th>count</th>\n",
       "      <td>60671.000000</td>\n",
       "    </tr>\n",
       "    <tr>\n",
       "      <th>mean</th>\n",
       "      <td>7.165328</td>\n",
       "    </tr>\n",
       "    <tr>\n",
       "      <th>std</th>\n",
       "      <td>2.616292</td>\n",
       "    </tr>\n",
       "    <tr>\n",
       "      <th>min</th>\n",
       "      <td>0.000000</td>\n",
       "    </tr>\n",
       "    <tr>\n",
       "      <th>25%</th>\n",
       "      <td>7.300000</td>\n",
       "    </tr>\n",
       "    <tr>\n",
       "      <th>50%</th>\n",
       "      <td>7.900000</td>\n",
       "    </tr>\n",
       "    <tr>\n",
       "      <th>75%</th>\n",
       "      <td>8.500000</td>\n",
       "    </tr>\n",
       "    <tr>\n",
       "      <th>max</th>\n",
       "      <td>10.000000</td>\n",
       "    </tr>\n",
       "  </tbody>\n",
       "</table>\n",
       "</div>"
      ],
      "text/plain": [
       "                 评分\n",
       "count  60671.000000\n",
       "mean       7.165328\n",
       "std        2.616292\n",
       "min        0.000000\n",
       "25%        7.300000\n",
       "50%        7.900000\n",
       "75%        8.500000\n",
       "max       10.000000"
      ]
     },
     "execution_count": 5,
     "metadata": {},
     "output_type": "execute_result"
    }
   ],
   "source": [
    "# 对数据做清洗（缺失值与异常值）\n",
    "\n",
    "df.describe()"
   ]
  },
  {
   "cell_type": "code",
   "execution_count": 6,
   "metadata": {},
   "outputs": [
    {
     "name": "stdout",
     "output_type": "stream",
     "text": [
      "<class 'pandas.core.frame.DataFrame'>\n",
      "RangeIndex: 60671 entries, 0 to 60670\n",
      "Data columns (total 9 columns):\n",
      "书名      60671 non-null object\n",
      "作者      60668 non-null object\n",
      "出版社     60671 non-null object\n",
      "出版时间    60671 non-null object\n",
      "页数      60671 non-null object\n",
      "价格      60656 non-null object\n",
      "ISBN    60671 non-null object\n",
      "评分      60671 non-null float64\n",
      "评论数量    60671 non-null object\n",
      "dtypes: float64(1), object(8)\n",
      "memory usage: 4.2+ MB\n"
     ]
    }
   ],
   "source": [
    "df.info()"
   ]
  },
  {
   "cell_type": "code",
   "execution_count": 7,
   "metadata": {},
   "outputs": [
    {
     "data": {
      "text/plain": [
       "书名       object\n",
       "作者       object\n",
       "出版社      object\n",
       "出版时间     object\n",
       "页数       object\n",
       "价格       object\n",
       "ISBN     object\n",
       "评分      float64\n",
       "评论数量     object\n",
       "dtype: object"
      ]
     },
     "execution_count": 7,
     "metadata": {},
     "output_type": "execute_result"
    }
   ],
   "source": [
    "# 要做数据清洗啦\n",
    "\n",
    "df.dtypes"
   ]
  },
  {
   "cell_type": "code",
   "execution_count": 8,
   "metadata": {},
   "outputs": [
    {
     "data": {
      "text/plain": [
       "60671"
      ]
     },
     "execution_count": 8,
     "metadata": {},
     "output_type": "execute_result"
    }
   ],
   "source": [
    "len(df)"
   ]
  },
  {
   "cell_type": "code",
   "execution_count": 9,
   "metadata": {},
   "outputs": [
    {
     "data": {
      "text/plain": [
       "(60671, 9)"
      ]
     },
     "execution_count": 9,
     "metadata": {},
     "output_type": "execute_result"
    }
   ],
   "source": [
    "df.shape"
   ]
  },
  {
   "cell_type": "code",
   "execution_count": 10,
   "metadata": {},
   "outputs": [
    {
     "data": {
      "text/plain": [
       "书名       object\n",
       "作者       object\n",
       "出版社      object\n",
       "出版时间     object\n",
       "页数       object\n",
       "价格       object\n",
       "ISBN     object\n",
       "评分      float64\n",
       "评论数量     object\n",
       "dtype: object"
      ]
     },
     "execution_count": 10,
     "metadata": {},
     "output_type": "execute_result"
    }
   ],
   "source": [
    "df.dtypes"
   ]
  },
  {
   "cell_type": "code",
   "execution_count": 11,
   "metadata": {},
   "outputs": [
    {
     "data": {
      "text/plain": [
       "count     60671\n",
       "unique     2109\n",
       "top        None\n",
       "freq       4267\n",
       "Name: 页数, dtype: object"
      ]
     },
     "execution_count": 11,
     "metadata": {},
     "output_type": "execute_result"
    }
   ],
   "source": [
    "df['页数'].describe()"
   ]
  },
  {
   "cell_type": "code",
   "execution_count": 12,
   "metadata": {},
   "outputs": [
    {
     "data": {
      "text/plain": [
       "0"
      ]
     },
     "execution_count": 12,
     "metadata": {},
     "output_type": "execute_result"
    }
   ],
   "source": [
    "# 这样看不出来\n",
    "\n",
    "df['页数'].isnull().sum()"
   ]
  },
  {
   "cell_type": "code",
   "execution_count": 13,
   "metadata": {},
   "outputs": [
    {
     "data": {
      "text/plain": [
       "4267"
      ]
     },
     "execution_count": 13,
     "metadata": {},
     "output_type": "execute_result"
    }
   ],
   "source": [
    "# 看看有多少 None 值页数信息\n",
    "\n",
    "len(df[df['页数']=='None'])"
   ]
  },
  {
   "cell_type": "markdown",
   "metadata": {},
   "source": [
    "### 处理页数数据"
   ]
  },
  {
   "cell_type": "code",
   "execution_count": 14,
   "metadata": {},
   "outputs": [],
   "source": [
    "# 定义 convert_to_int 方法处理页数数据，如果为 None 则填充 0 \n",
    "\n",
    "import re\n",
    "def convert2int(x):\n",
    "    if re.match('^\\d+$',str(x)):\n",
    "        return x\n",
    "    else:\n",
    "        return 0"
   ]
  },
  {
   "cell_type": "code",
   "execution_count": 15,
   "metadata": {},
   "outputs": [
    {
     "data": {
      "text/html": [
       "<div>\n",
       "<style scoped>\n",
       "    .dataframe tbody tr th:only-of-type {\n",
       "        vertical-align: middle;\n",
       "    }\n",
       "\n",
       "    .dataframe tbody tr th {\n",
       "        vertical-align: top;\n",
       "    }\n",
       "\n",
       "    .dataframe thead th {\n",
       "        text-align: right;\n",
       "    }\n",
       "</style>\n",
       "<table border=\"1\" class=\"dataframe\">\n",
       "  <thead>\n",
       "    <tr style=\"text-align: right;\">\n",
       "      <th></th>\n",
       "      <th>书名</th>\n",
       "      <th>作者</th>\n",
       "      <th>出版社</th>\n",
       "      <th>出版时间</th>\n",
       "      <th>页数</th>\n",
       "      <th>价格</th>\n",
       "      <th>ISBN</th>\n",
       "      <th>评分</th>\n",
       "      <th>评论数量</th>\n",
       "    </tr>\n",
       "  </thead>\n",
       "  <tbody>\n",
       "    <tr>\n",
       "      <th>0</th>\n",
       "      <td>因扎吉传记 SUPERPIPPO</td>\n",
       "      <td>Mauro Suma</td>\n",
       "      <td>ECO Sport</td>\n",
       "      <td>2008/</td>\n",
       "      <td>224</td>\n",
       "      <td>O 14.5</td>\n",
       "      <td>9788881133581</td>\n",
       "      <td>9.4</td>\n",
       "      <td>69</td>\n",
       "    </tr>\n",
       "    <tr>\n",
       "      <th>1</th>\n",
       "      <td>中国武侠小说史论</td>\n",
       "      <td>叶洪生</td>\n",
       "      <td>None</td>\n",
       "      <td>1905-03-14 00:00:00</td>\n",
       "      <td>0</td>\n",
       "      <td>None</td>\n",
       "      <td>9787811074710</td>\n",
       "      <td>0.0</td>\n",
       "      <td>None</td>\n",
       "    </tr>\n",
       "    <tr>\n",
       "      <th>2</th>\n",
       "      <td>How to cook and eat in Chinese</td>\n",
       "      <td>杨步伟</td>\n",
       "      <td>The John Day company</td>\n",
       "      <td>1905-04-28 00:00:00</td>\n",
       "      <td>262</td>\n",
       "      <td>None</td>\n",
       "      <td>9780394717036</td>\n",
       "      <td>0.0</td>\n",
       "      <td>None</td>\n",
       "    </tr>\n",
       "    <tr>\n",
       "      <th>3</th>\n",
       "      <td>吐鲁番考古记</td>\n",
       "      <td>黄文弼</td>\n",
       "      <td>中国科学院出版社</td>\n",
       "      <td>1905-05-07 00:00:00</td>\n",
       "      <td>208</td>\n",
       "      <td>None</td>\n",
       "      <td>None</td>\n",
       "      <td>0.0</td>\n",
       "      <td>None</td>\n",
       "    </tr>\n",
       "    <tr>\n",
       "      <th>4</th>\n",
       "      <td>塞瓦斯托波尔故事</td>\n",
       "      <td>列夫·托尔斯泰</td>\n",
       "      <td>新文艺出版社</td>\n",
       "      <td>1905-05-08 00:00:00</td>\n",
       "      <td>172</td>\n",
       "      <td>None</td>\n",
       "      <td>None</td>\n",
       "      <td>0.0</td>\n",
       "      <td>None</td>\n",
       "    </tr>\n",
       "    <tr>\n",
       "      <th>5</th>\n",
       "      <td>敦煌变文集（上下集）</td>\n",
       "      <td>王重民</td>\n",
       "      <td>人民文学出版社</td>\n",
       "      <td>1905-05-10 00:00:00</td>\n",
       "      <td>922</td>\n",
       "      <td>None</td>\n",
       "      <td>None</td>\n",
       "      <td>0.0</td>\n",
       "      <td>None</td>\n",
       "    </tr>\n",
       "    <tr>\n",
       "      <th>6</th>\n",
       "      <td>可笑的女才子</td>\n",
       "      <td>[法] 莫里哀</td>\n",
       "      <td>作家出版社</td>\n",
       "      <td>1905-05-10 00:00:00</td>\n",
       "      <td>96</td>\n",
       "      <td>None</td>\n",
       "      <td>None</td>\n",
       "      <td>0.0</td>\n",
       "      <td>None</td>\n",
       "    </tr>\n",
       "    <tr>\n",
       "      <th>7</th>\n",
       "      <td>鲁迅传</td>\n",
       "      <td>石一歌</td>\n",
       "      <td>上海人民出版社</td>\n",
       "      <td>1905-05-29 00:00:00</td>\n",
       "      <td>148</td>\n",
       "      <td>None</td>\n",
       "      <td>None</td>\n",
       "      <td>0.0</td>\n",
       "      <td>None</td>\n",
       "    </tr>\n",
       "    <tr>\n",
       "      <th>8</th>\n",
       "      <td>中國邊疆民族與環太平洋文化</td>\n",
       "      <td>凌純聲</td>\n",
       "      <td>聯經出版事業股份有限公司</td>\n",
       "      <td>1905-06-01 00:00:00</td>\n",
       "      <td>0</td>\n",
       "      <td>None</td>\n",
       "      <td>9789106796871</td>\n",
       "      <td>0.0</td>\n",
       "      <td>None</td>\n",
       "    </tr>\n",
       "    <tr>\n",
       "      <th>9</th>\n",
       "      <td>两面间谍</td>\n",
       "      <td>约翰·马斯特曼</td>\n",
       "      <td>群众出版社</td>\n",
       "      <td>1905-06-01 00:00:00</td>\n",
       "      <td>182</td>\n",
       "      <td>None</td>\n",
       "      <td>None</td>\n",
       "      <td>0.0</td>\n",
       "      <td>None</td>\n",
       "    </tr>\n",
       "  </tbody>\n",
       "</table>\n",
       "</div>"
      ],
      "text/plain": [
       "                               书名          作者                    出版社  \\\n",
       "0                因扎吉传记 SUPERPIPPO  Mauro Suma              ECO Sport   \n",
       "1                        中国武侠小说史论         叶洪生                   None   \n",
       "2  How to cook and eat in Chinese         杨步伟   The John Day company   \n",
       "3                          吐鲁番考古记         黄文弼               中国科学院出版社   \n",
       "4                        塞瓦斯托波尔故事     列夫·托尔斯泰                 新文艺出版社   \n",
       "5                      敦煌变文集（上下集）         王重民                人民文学出版社   \n",
       "6                          可笑的女才子     [法] 莫里哀                  作家出版社   \n",
       "7                             鲁迅传         石一歌                上海人民出版社   \n",
       "8                   中國邊疆民族與環太平洋文化         凌純聲           聯經出版事業股份有限公司   \n",
       "9                            两面间谍     约翰·马斯特曼                  群众出版社   \n",
       "\n",
       "                  出版时间   页数      价格           ISBN   评分  评论数量  \n",
       "0                2008/  224  O 14.5  9788881133581  9.4    69  \n",
       "1  1905-03-14 00:00:00    0    None  9787811074710  0.0  None  \n",
       "2  1905-04-28 00:00:00  262    None  9780394717036  0.0  None  \n",
       "3  1905-05-07 00:00:00  208    None           None  0.0  None  \n",
       "4  1905-05-08 00:00:00  172    None           None  0.0  None  \n",
       "5  1905-05-10 00:00:00  922    None           None  0.0  None  \n",
       "6  1905-05-10 00:00:00   96    None           None  0.0  None  \n",
       "7  1905-05-29 00:00:00  148    None           None  0.0  None  \n",
       "8  1905-06-01 00:00:00    0    None  9789106796871  0.0  None  \n",
       "9  1905-06-01 00:00:00  182    None           None  0.0  None  "
      ]
     },
     "execution_count": 15,
     "metadata": {},
     "output_type": "execute_result"
    }
   ],
   "source": [
    "df['页数'] = df['页数'].apply(convert2int)\n",
    "df.head(10)"
   ]
  },
  {
   "cell_type": "code",
   "execution_count": 16,
   "metadata": {},
   "outputs": [
    {
     "data": {
      "text/plain": [
       "count    6.067100e+04\n",
       "mean     6.883281e+06\n",
       "std      1.695365e+09\n",
       "min      0.000000e+00\n",
       "25%      1.940000e+02\n",
       "50%      2.640000e+02\n",
       "75%      3.600000e+02\n",
       "max      4.175936e+11\n",
       "Name: 页数, dtype: float64"
      ]
     },
     "execution_count": 16,
     "metadata": {},
     "output_type": "execute_result"
    }
   ],
   "source": [
    "df['页数'].describe()"
   ]
  },
  {
   "cell_type": "code",
   "execution_count": 17,
   "metadata": {},
   "outputs": [
    {
     "name": "stdout",
     "output_type": "stream",
     "text": [
      "<class 'pandas.core.frame.DataFrame'>\n",
      "RangeIndex: 60671 entries, 0 to 60670\n",
      "Data columns (total 9 columns):\n",
      "书名      60671 non-null object\n",
      "作者      60668 non-null object\n",
      "出版社     60671 non-null object\n",
      "出版时间    60671 non-null object\n",
      "页数      60671 non-null int64\n",
      "价格      60656 non-null object\n",
      "ISBN    60671 non-null object\n",
      "评分      60671 non-null float64\n",
      "评论数量    60671 non-null object\n",
      "dtypes: float64(1), int64(1), object(7)\n",
      "memory usage: 4.2+ MB\n"
     ]
    }
   ],
   "source": [
    "df.info()"
   ]
  },
  {
   "cell_type": "code",
   "execution_count": 18,
   "metadata": {},
   "outputs": [],
   "source": [
    "# 处理页数数据\n",
    "\n",
    "#df['页数'] = df['页数'].apply(lambda x: x if re.match('^\\d+$', str(x)) else 0)\n",
    "#df['页数'] = df['页数'].astype(int)"
   ]
  },
  {
   "cell_type": "markdown",
   "metadata": {},
   "source": [
    "### 处理价格数据"
   ]
  },
  {
   "cell_type": "code",
   "execution_count": 19,
   "metadata": {},
   "outputs": [],
   "source": [
    "# 处理价格数据\n",
    "\n",
    "df['价格'] = df['价格'].apply(lambda x: x if re.match('^[\\d\\.]+$', str(x)) else 0)\n",
    "df['价格'] = df['价格'].astype(float)"
   ]
  },
  {
   "cell_type": "code",
   "execution_count": 20,
   "metadata": {},
   "outputs": [
    {
     "data": {
      "text/plain": [
       "3217"
      ]
     },
     "execution_count": 20,
     "metadata": {},
     "output_type": "execute_result"
    }
   ],
   "source": [
    "# 价格为 0 的图书数量\n",
    "\n",
    "len(df[df['价格'] == 0])"
   ]
  },
  {
   "cell_type": "markdown",
   "metadata": {},
   "source": [
    "### 处理评论数量数据"
   ]
  },
  {
   "cell_type": "code",
   "execution_count": 21,
   "metadata": {},
   "outputs": [],
   "source": [
    "# 处理评论数量数据\n",
    "\n",
    "df['评论数量'] = df['评论数量'].apply(lambda x: x if re.match('^\\d+$', str(x)) else 0)\n",
    "df['评论数量'] = df['评论数量'].astype(int)"
   ]
  },
  {
   "cell_type": "code",
   "execution_count": 22,
   "metadata": {},
   "outputs": [
    {
     "data": {
      "text/plain": [
       "书名       object\n",
       "作者       object\n",
       "出版社      object\n",
       "出版时间     object\n",
       "页数        int64\n",
       "价格      float64\n",
       "ISBN     object\n",
       "评分      float64\n",
       "评论数量      int64\n",
       "dtype: object"
      ]
     },
     "execution_count": 22,
     "metadata": {},
     "output_type": "execute_result"
    }
   ],
   "source": [
    "df.dtypes"
   ]
  },
  {
   "cell_type": "code",
   "execution_count": 23,
   "metadata": {},
   "outputs": [
    {
     "data": {
      "text/html": [
       "<div>\n",
       "<style scoped>\n",
       "    .dataframe tbody tr th:only-of-type {\n",
       "        vertical-align: middle;\n",
       "    }\n",
       "\n",
       "    .dataframe tbody tr th {\n",
       "        vertical-align: top;\n",
       "    }\n",
       "\n",
       "    .dataframe thead th {\n",
       "        text-align: right;\n",
       "    }\n",
       "</style>\n",
       "<table border=\"1\" class=\"dataframe\">\n",
       "  <thead>\n",
       "    <tr style=\"text-align: right;\">\n",
       "      <th></th>\n",
       "      <th>书名</th>\n",
       "      <th>作者</th>\n",
       "      <th>出版社</th>\n",
       "      <th>出版时间</th>\n",
       "      <th>页数</th>\n",
       "      <th>价格</th>\n",
       "      <th>ISBN</th>\n",
       "      <th>评分</th>\n",
       "      <th>评论数量</th>\n",
       "    </tr>\n",
       "  </thead>\n",
       "  <tbody>\n",
       "    <tr>\n",
       "      <th>0</th>\n",
       "      <td>因扎吉传记 SUPERPIPPO</td>\n",
       "      <td>Mauro Suma</td>\n",
       "      <td>ECO Sport</td>\n",
       "      <td>2008/</td>\n",
       "      <td>224</td>\n",
       "      <td>0.0</td>\n",
       "      <td>9788881133581</td>\n",
       "      <td>9.4</td>\n",
       "      <td>69</td>\n",
       "    </tr>\n",
       "    <tr>\n",
       "      <th>1</th>\n",
       "      <td>中国武侠小说史论</td>\n",
       "      <td>叶洪生</td>\n",
       "      <td>None</td>\n",
       "      <td>1905-03-14 00:00:00</td>\n",
       "      <td>0</td>\n",
       "      <td>0.0</td>\n",
       "      <td>9787811074710</td>\n",
       "      <td>0.0</td>\n",
       "      <td>0</td>\n",
       "    </tr>\n",
       "    <tr>\n",
       "      <th>2</th>\n",
       "      <td>How to cook and eat in Chinese</td>\n",
       "      <td>杨步伟</td>\n",
       "      <td>The John Day company</td>\n",
       "      <td>1905-04-28 00:00:00</td>\n",
       "      <td>262</td>\n",
       "      <td>0.0</td>\n",
       "      <td>9780394717036</td>\n",
       "      <td>0.0</td>\n",
       "      <td>0</td>\n",
       "    </tr>\n",
       "    <tr>\n",
       "      <th>3</th>\n",
       "      <td>吐鲁番考古记</td>\n",
       "      <td>黄文弼</td>\n",
       "      <td>中国科学院出版社</td>\n",
       "      <td>1905-05-07 00:00:00</td>\n",
       "      <td>208</td>\n",
       "      <td>0.0</td>\n",
       "      <td>None</td>\n",
       "      <td>0.0</td>\n",
       "      <td>0</td>\n",
       "    </tr>\n",
       "    <tr>\n",
       "      <th>4</th>\n",
       "      <td>塞瓦斯托波尔故事</td>\n",
       "      <td>列夫·托尔斯泰</td>\n",
       "      <td>新文艺出版社</td>\n",
       "      <td>1905-05-08 00:00:00</td>\n",
       "      <td>172</td>\n",
       "      <td>0.0</td>\n",
       "      <td>None</td>\n",
       "      <td>0.0</td>\n",
       "      <td>0</td>\n",
       "    </tr>\n",
       "  </tbody>\n",
       "</table>\n",
       "</div>"
      ],
      "text/plain": [
       "                               书名          作者                    出版社  \\\n",
       "0                因扎吉传记 SUPERPIPPO  Mauro Suma              ECO Sport   \n",
       "1                        中国武侠小说史论         叶洪生                   None   \n",
       "2  How to cook and eat in Chinese         杨步伟   The John Day company   \n",
       "3                          吐鲁番考古记         黄文弼               中国科学院出版社   \n",
       "4                        塞瓦斯托波尔故事     列夫·托尔斯泰                 新文艺出版社   \n",
       "\n",
       "                  出版时间   页数   价格           ISBN   评分  评论数量  \n",
       "0                2008/  224  0.0  9788881133581  9.4    69  \n",
       "1  1905-03-14 00:00:00    0  0.0  9787811074710  0.0     0  \n",
       "2  1905-04-28 00:00:00  262  0.0  9780394717036  0.0     0  \n",
       "3  1905-05-07 00:00:00  208  0.0           None  0.0     0  \n",
       "4  1905-05-08 00:00:00  172  0.0           None  0.0     0  "
      ]
     },
     "execution_count": 23,
     "metadata": {},
     "output_type": "execute_result"
    }
   ],
   "source": [
    "df.head()"
   ]
  },
  {
   "cell_type": "code",
   "execution_count": 24,
   "metadata": {},
   "outputs": [
    {
     "data": {
      "text/plain": [
       "Index(['书名', '作者', '出版社', '出版时间', '页数', '价格', 'ISBN', '评分', '评论数量'], dtype='object')"
      ]
     },
     "execution_count": 24,
     "metadata": {},
     "output_type": "execute_result"
    }
   ],
   "source": [
    "df.columns[:]"
   ]
  },
  {
   "cell_type": "code",
   "execution_count": 25,
   "metadata": {},
   "outputs": [
    {
     "data": {
      "text/html": [
       "<div>\n",
       "<style scoped>\n",
       "    .dataframe tbody tr th:only-of-type {\n",
       "        vertical-align: middle;\n",
       "    }\n",
       "\n",
       "    .dataframe tbody tr th {\n",
       "        vertical-align: top;\n",
       "    }\n",
       "\n",
       "    .dataframe thead th {\n",
       "        text-align: right;\n",
       "    }\n",
       "</style>\n",
       "<table border=\"1\" class=\"dataframe\">\n",
       "  <thead>\n",
       "    <tr style=\"text-align: right;\">\n",
       "      <th></th>\n",
       "      <th>书名</th>\n",
       "      <th>作者</th>\n",
       "      <th>出版社</th>\n",
       "      <th>出版时间</th>\n",
       "      <th>页数</th>\n",
       "      <th>价格</th>\n",
       "      <th>ISBN</th>\n",
       "      <th>评分</th>\n",
       "      <th>评论数量</th>\n",
       "    </tr>\n",
       "  </thead>\n",
       "  <tbody>\n",
       "    <tr>\n",
       "      <th>23083</th>\n",
       "      <td>戏剧、革命与都市漩涡</td>\n",
       "      <td>葛飞</td>\n",
       "      <td>北京大学出版社</td>\n",
       "      <td>2008/09</td>\n",
       "      <td>365</td>\n",
       "      <td>42.00</td>\n",
       "      <td>9787301141236</td>\n",
       "      <td>7.7</td>\n",
       "      <td>22</td>\n",
       "    </tr>\n",
       "    <tr>\n",
       "      <th>31339</th>\n",
       "      <td>筋长一寸 寿延十年</td>\n",
       "      <td>钟健夫</td>\n",
       "      <td>广东人民</td>\n",
       "      <td>2012/6</td>\n",
       "      <td>276</td>\n",
       "      <td>35.00</td>\n",
       "      <td>9787218062327</td>\n",
       "      <td>6.7</td>\n",
       "      <td>96</td>\n",
       "    </tr>\n",
       "    <tr>\n",
       "      <th>10062</th>\n",
       "      <td>数据可视化之美</td>\n",
       "      <td>Julie Steele</td>\n",
       "      <td>机械工业出版社</td>\n",
       "      <td>2011/6</td>\n",
       "      <td>456</td>\n",
       "      <td>89.00</td>\n",
       "      <td>9787111337966</td>\n",
       "      <td>7.8</td>\n",
       "      <td>241</td>\n",
       "    </tr>\n",
       "    <tr>\n",
       "      <th>55807</th>\n",
       "      <td>在轮下</td>\n",
       "      <td>[德] 赫尔曼·黑塞</td>\n",
       "      <td>上海译文出版社</td>\n",
       "      <td>2007/7</td>\n",
       "      <td>202</td>\n",
       "      <td>15.00</td>\n",
       "      <td>9787532742301</td>\n",
       "      <td>8.3</td>\n",
       "      <td>1850</td>\n",
       "    </tr>\n",
       "    <tr>\n",
       "      <th>16787</th>\n",
       "      <td>料理全书</td>\n",
       "      <td>高木初江</td>\n",
       "      <td>北京联合出版公司</td>\n",
       "      <td>2016/1</td>\n",
       "      <td>160</td>\n",
       "      <td>55.00</td>\n",
       "      <td>9787550258730</td>\n",
       "      <td>8.5</td>\n",
       "      <td>41</td>\n",
       "    </tr>\n",
       "    <tr>\n",
       "      <th>5187</th>\n",
       "      <td>敬愛的領袖</td>\n",
       "      <td>張振成（Jang Jin-sung）</td>\n",
       "      <td>臉譜</td>\n",
       "      <td>2015/4</td>\n",
       "      <td>336</td>\n",
       "      <td>380.00</td>\n",
       "      <td>9789862354216</td>\n",
       "      <td>8.2</td>\n",
       "      <td>50</td>\n",
       "    </tr>\n",
       "    <tr>\n",
       "      <th>57033</th>\n",
       "      <td>波斯古代诗选</td>\n",
       "      <td>张鸿年编选</td>\n",
       "      <td>人民文学出版社</td>\n",
       "      <td>1905-06-17 00:00:00</td>\n",
       "      <td>348</td>\n",
       "      <td>13.05</td>\n",
       "      <td>9787020020324</td>\n",
       "      <td>7.9</td>\n",
       "      <td>29</td>\n",
       "    </tr>\n",
       "    <tr>\n",
       "      <th>54936</th>\n",
       "      <td>从界面到网络空间</td>\n",
       "      <td>（美）海姆</td>\n",
       "      <td>上海科技教育出版社</td>\n",
       "      <td>2000/7</td>\n",
       "      <td>190</td>\n",
       "      <td>16.40</td>\n",
       "      <td>9787542822871</td>\n",
       "      <td>7.3</td>\n",
       "      <td>38</td>\n",
       "    </tr>\n",
       "    <tr>\n",
       "      <th>48133</th>\n",
       "      <td>信号与系统辅导与题解</td>\n",
       "      <td>None</td>\n",
       "      <td>None</td>\n",
       "      <td>2012/6</td>\n",
       "      <td>391</td>\n",
       "      <td>23.00</td>\n",
       "      <td>9787560979595</td>\n",
       "      <td>0.0</td>\n",
       "      <td>0</td>\n",
       "    </tr>\n",
       "    <tr>\n",
       "      <th>47201</th>\n",
       "      <td>最好的医生是自己</td>\n",
       "      <td>洪昭光</td>\n",
       "      <td>科学出版社</td>\n",
       "      <td>2007/02/01</td>\n",
       "      <td>221</td>\n",
       "      <td>24.80</td>\n",
       "      <td>9787030188533</td>\n",
       "      <td>7.7</td>\n",
       "      <td>18</td>\n",
       "    </tr>\n",
       "  </tbody>\n",
       "</table>\n",
       "</div>"
      ],
      "text/plain": [
       "               书名                  作者         出版社                 出版时间   页数  \\\n",
       "23083  戏剧、革命与都市漩涡                  葛飞     北京大学出版社              2008/09  365   \n",
       "31339   筋长一寸 寿延十年                 钟健夫        广东人民               2012/6  276   \n",
       "10062     数据可视化之美        Julie Steele     机械工业出版社               2011/6  456   \n",
       "55807         在轮下          [德] 赫尔曼·黑塞     上海译文出版社               2007/7  202   \n",
       "16787        料理全书                高木初江    北京联合出版公司               2016/1  160   \n",
       "5187        敬愛的領袖  張振成（Jang Jin-sung）          臉譜               2015/4  336   \n",
       "57033      波斯古代诗选               张鸿年编选     人民文学出版社  1905-06-17 00:00:00  348   \n",
       "54936    从界面到网络空间               （美）海姆   上海科技教育出版社               2000/7  190   \n",
       "48133  信号与系统辅导与题解                None        None               2012/6  391   \n",
       "47201    最好的医生是自己                 洪昭光       科学出版社           2007/02/01  221   \n",
       "\n",
       "           价格           ISBN   评分  评论数量  \n",
       "23083   42.00  9787301141236  7.7    22  \n",
       "31339   35.00  9787218062327  6.7    96  \n",
       "10062   89.00  9787111337966  7.8   241  \n",
       "55807   15.00  9787532742301  8.3  1850  \n",
       "16787   55.00  9787550258730  8.5    41  \n",
       "5187   380.00  9789862354216  8.2    50  \n",
       "57033   13.05  9787020020324  7.9    29  \n",
       "54936   16.40  9787542822871  7.3    38  \n",
       "48133   23.00  9787560979595  0.0     0  \n",
       "47201   24.80  9787030188533  7.7    18  "
      ]
     },
     "execution_count": 25,
     "metadata": {},
     "output_type": "execute_result"
    }
   ],
   "source": [
    "df.sample(10)"
   ]
  },
  {
   "cell_type": "code",
   "execution_count": 26,
   "metadata": {},
   "outputs": [
    {
     "data": {
      "text/html": [
       "<div>\n",
       "<style scoped>\n",
       "    .dataframe tbody tr th:only-of-type {\n",
       "        vertical-align: middle;\n",
       "    }\n",
       "\n",
       "    .dataframe tbody tr th {\n",
       "        vertical-align: top;\n",
       "    }\n",
       "\n",
       "    .dataframe thead th {\n",
       "        text-align: right;\n",
       "    }\n",
       "</style>\n",
       "<table border=\"1\" class=\"dataframe\">\n",
       "  <thead>\n",
       "    <tr style=\"text-align: right;\">\n",
       "      <th></th>\n",
       "      <th>页数</th>\n",
       "      <th>价格</th>\n",
       "      <th>评分</th>\n",
       "      <th>评论数量</th>\n",
       "    </tr>\n",
       "  </thead>\n",
       "  <tbody>\n",
       "    <tr>\n",
       "      <th>count</th>\n",
       "      <td>6.067100e+04</td>\n",
       "      <td>6.067100e+04</td>\n",
       "      <td>60671.000000</td>\n",
       "      <td>60671.000000</td>\n",
       "    </tr>\n",
       "    <tr>\n",
       "      <th>mean</th>\n",
       "      <td>6.883281e+06</td>\n",
       "      <td>1.348609e+02</td>\n",
       "      <td>7.165328</td>\n",
       "      <td>661.712762</td>\n",
       "    </tr>\n",
       "    <tr>\n",
       "      <th>std</th>\n",
       "      <td>1.695365e+09</td>\n",
       "      <td>9.790057e+03</td>\n",
       "      <td>2.616292</td>\n",
       "      <td>3885.365596</td>\n",
       "    </tr>\n",
       "    <tr>\n",
       "      <th>min</th>\n",
       "      <td>0.000000e+00</td>\n",
       "      <td>0.000000e+00</td>\n",
       "      <td>0.000000</td>\n",
       "      <td>0.000000</td>\n",
       "    </tr>\n",
       "    <tr>\n",
       "      <th>25%</th>\n",
       "      <td>1.940000e+02</td>\n",
       "      <td>2.280000e+01</td>\n",
       "      <td>7.300000</td>\n",
       "      <td>24.000000</td>\n",
       "    </tr>\n",
       "    <tr>\n",
       "      <th>50%</th>\n",
       "      <td>2.640000e+02</td>\n",
       "      <td>3.200000e+01</td>\n",
       "      <td>7.900000</td>\n",
       "      <td>73.000000</td>\n",
       "    </tr>\n",
       "    <tr>\n",
       "      <th>75%</th>\n",
       "      <td>3.600000e+02</td>\n",
       "      <td>4.900000e+01</td>\n",
       "      <td>8.500000</td>\n",
       "      <td>266.000000</td>\n",
       "    </tr>\n",
       "    <tr>\n",
       "      <th>max</th>\n",
       "      <td>4.175936e+11</td>\n",
       "      <td>2.336095e+06</td>\n",
       "      <td>10.000000</td>\n",
       "      <td>209602.000000</td>\n",
       "    </tr>\n",
       "  </tbody>\n",
       "</table>\n",
       "</div>"
      ],
      "text/plain": [
       "                 页数            价格            评分           评论数量\n",
       "count  6.067100e+04  6.067100e+04  60671.000000   60671.000000\n",
       "mean   6.883281e+06  1.348609e+02      7.165328     661.712762\n",
       "std    1.695365e+09  9.790057e+03      2.616292    3885.365596\n",
       "min    0.000000e+00  0.000000e+00      0.000000       0.000000\n",
       "25%    1.940000e+02  2.280000e+01      7.300000      24.000000\n",
       "50%    2.640000e+02  3.200000e+01      7.900000      73.000000\n",
       "75%    3.600000e+02  4.900000e+01      8.500000     266.000000\n",
       "max    4.175936e+11  2.336095e+06     10.000000  209602.000000"
      ]
     },
     "execution_count": 26,
     "metadata": {},
     "output_type": "execute_result"
    }
   ],
   "source": [
    "df.describe()"
   ]
  },
  {
   "cell_type": "markdown",
   "metadata": {},
   "source": [
    "## 年份信息加工"
   ]
  },
  {
   "cell_type": "code",
   "execution_count": 27,
   "metadata": {},
   "outputs": [],
   "source": [
    "# 处理出版时间，只要年份\n",
    "\n",
    "def year(s):\n",
    "    y = re.findall('\\d{4}',str(s))\n",
    "    if len(y)>0:\n",
    "        return y[0]\n",
    "    return ''"
   ]
  },
  {
   "cell_type": "code",
   "execution_count": 28,
   "metadata": {},
   "outputs": [
    {
     "data": {
      "text/plain": [
       "'1999'"
      ]
     },
     "execution_count": 28,
     "metadata": {},
     "output_type": "execute_result"
    }
   ],
   "source": [
    "# 有的直接是个数字 2.00711e+07\n",
    "\n",
    "year('1999.11.05')\n",
    "#year('2011/3')\n",
    "#year('April 2010')\n",
    "#year('2008')\n",
    "#year('1905-06-04 00:00:00')\n",
    "#year('01 June, 1959')\n",
    "#year(201888888)"
   ]
  },
  {
   "cell_type": "code",
   "execution_count": 29,
   "metadata": {},
   "outputs": [],
   "source": [
    "# 增加“出版年份”字段\n",
    "\n",
    "#df['出版年份'] = df['出版时间'].apply(year)\n",
    "df['出版年份'] = df['出版时间'].apply(year)\n",
    "#df['出版年份'] = df['出版时间'].apply(lambda x: y if y = re.findall('^\\d{4}', str(x)) else '')"
   ]
  },
  {
   "cell_type": "code",
   "execution_count": 30,
   "metadata": {},
   "outputs": [
    {
     "data": {
      "text/html": [
       "<div>\n",
       "<style scoped>\n",
       "    .dataframe tbody tr th:only-of-type {\n",
       "        vertical-align: middle;\n",
       "    }\n",
       "\n",
       "    .dataframe tbody tr th {\n",
       "        vertical-align: top;\n",
       "    }\n",
       "\n",
       "    .dataframe thead th {\n",
       "        text-align: right;\n",
       "    }\n",
       "</style>\n",
       "<table border=\"1\" class=\"dataframe\">\n",
       "  <thead>\n",
       "    <tr style=\"text-align: right;\">\n",
       "      <th></th>\n",
       "      <th>书名</th>\n",
       "      <th>作者</th>\n",
       "      <th>出版社</th>\n",
       "      <th>出版时间</th>\n",
       "      <th>页数</th>\n",
       "      <th>价格</th>\n",
       "      <th>ISBN</th>\n",
       "      <th>评分</th>\n",
       "      <th>评论数量</th>\n",
       "      <th>出版年份</th>\n",
       "    </tr>\n",
       "  </thead>\n",
       "  <tbody>\n",
       "    <tr>\n",
       "      <th>0</th>\n",
       "      <td>因扎吉传记 SUPERPIPPO</td>\n",
       "      <td>Mauro Suma</td>\n",
       "      <td>ECO Sport</td>\n",
       "      <td>2008/</td>\n",
       "      <td>224</td>\n",
       "      <td>0.0</td>\n",
       "      <td>9788881133581</td>\n",
       "      <td>9.4</td>\n",
       "      <td>69</td>\n",
       "      <td>2008</td>\n",
       "    </tr>\n",
       "    <tr>\n",
       "      <th>1</th>\n",
       "      <td>中国武侠小说史论</td>\n",
       "      <td>叶洪生</td>\n",
       "      <td>None</td>\n",
       "      <td>1905-03-14 00:00:00</td>\n",
       "      <td>0</td>\n",
       "      <td>0.0</td>\n",
       "      <td>9787811074710</td>\n",
       "      <td>0.0</td>\n",
       "      <td>0</td>\n",
       "      <td>1905</td>\n",
       "    </tr>\n",
       "    <tr>\n",
       "      <th>2</th>\n",
       "      <td>How to cook and eat in Chinese</td>\n",
       "      <td>杨步伟</td>\n",
       "      <td>The John Day company</td>\n",
       "      <td>1905-04-28 00:00:00</td>\n",
       "      <td>262</td>\n",
       "      <td>0.0</td>\n",
       "      <td>9780394717036</td>\n",
       "      <td>0.0</td>\n",
       "      <td>0</td>\n",
       "      <td>1905</td>\n",
       "    </tr>\n",
       "    <tr>\n",
       "      <th>3</th>\n",
       "      <td>吐鲁番考古记</td>\n",
       "      <td>黄文弼</td>\n",
       "      <td>中国科学院出版社</td>\n",
       "      <td>1905-05-07 00:00:00</td>\n",
       "      <td>208</td>\n",
       "      <td>0.0</td>\n",
       "      <td>None</td>\n",
       "      <td>0.0</td>\n",
       "      <td>0</td>\n",
       "      <td>1905</td>\n",
       "    </tr>\n",
       "    <tr>\n",
       "      <th>4</th>\n",
       "      <td>塞瓦斯托波尔故事</td>\n",
       "      <td>列夫·托尔斯泰</td>\n",
       "      <td>新文艺出版社</td>\n",
       "      <td>1905-05-08 00:00:00</td>\n",
       "      <td>172</td>\n",
       "      <td>0.0</td>\n",
       "      <td>None</td>\n",
       "      <td>0.0</td>\n",
       "      <td>0</td>\n",
       "      <td>1905</td>\n",
       "    </tr>\n",
       "    <tr>\n",
       "      <th>5</th>\n",
       "      <td>敦煌变文集（上下集）</td>\n",
       "      <td>王重民</td>\n",
       "      <td>人民文学出版社</td>\n",
       "      <td>1905-05-10 00:00:00</td>\n",
       "      <td>922</td>\n",
       "      <td>0.0</td>\n",
       "      <td>None</td>\n",
       "      <td>0.0</td>\n",
       "      <td>0</td>\n",
       "      <td>1905</td>\n",
       "    </tr>\n",
       "    <tr>\n",
       "      <th>6</th>\n",
       "      <td>可笑的女才子</td>\n",
       "      <td>[法] 莫里哀</td>\n",
       "      <td>作家出版社</td>\n",
       "      <td>1905-05-10 00:00:00</td>\n",
       "      <td>96</td>\n",
       "      <td>0.0</td>\n",
       "      <td>None</td>\n",
       "      <td>0.0</td>\n",
       "      <td>0</td>\n",
       "      <td>1905</td>\n",
       "    </tr>\n",
       "    <tr>\n",
       "      <th>7</th>\n",
       "      <td>鲁迅传</td>\n",
       "      <td>石一歌</td>\n",
       "      <td>上海人民出版社</td>\n",
       "      <td>1905-05-29 00:00:00</td>\n",
       "      <td>148</td>\n",
       "      <td>0.0</td>\n",
       "      <td>None</td>\n",
       "      <td>0.0</td>\n",
       "      <td>0</td>\n",
       "      <td>1905</td>\n",
       "    </tr>\n",
       "    <tr>\n",
       "      <th>8</th>\n",
       "      <td>中國邊疆民族與環太平洋文化</td>\n",
       "      <td>凌純聲</td>\n",
       "      <td>聯經出版事業股份有限公司</td>\n",
       "      <td>1905-06-01 00:00:00</td>\n",
       "      <td>0</td>\n",
       "      <td>0.0</td>\n",
       "      <td>9789106796871</td>\n",
       "      <td>0.0</td>\n",
       "      <td>0</td>\n",
       "      <td>1905</td>\n",
       "    </tr>\n",
       "    <tr>\n",
       "      <th>9</th>\n",
       "      <td>两面间谍</td>\n",
       "      <td>约翰·马斯特曼</td>\n",
       "      <td>群众出版社</td>\n",
       "      <td>1905-06-01 00:00:00</td>\n",
       "      <td>182</td>\n",
       "      <td>0.0</td>\n",
       "      <td>None</td>\n",
       "      <td>0.0</td>\n",
       "      <td>0</td>\n",
       "      <td>1905</td>\n",
       "    </tr>\n",
       "  </tbody>\n",
       "</table>\n",
       "</div>"
      ],
      "text/plain": [
       "                               书名          作者                    出版社  \\\n",
       "0                因扎吉传记 SUPERPIPPO  Mauro Suma              ECO Sport   \n",
       "1                        中国武侠小说史论         叶洪生                   None   \n",
       "2  How to cook and eat in Chinese         杨步伟   The John Day company   \n",
       "3                          吐鲁番考古记         黄文弼               中国科学院出版社   \n",
       "4                        塞瓦斯托波尔故事     列夫·托尔斯泰                 新文艺出版社   \n",
       "5                      敦煌变文集（上下集）         王重民                人民文学出版社   \n",
       "6                          可笑的女才子     [法] 莫里哀                  作家出版社   \n",
       "7                             鲁迅传         石一歌                上海人民出版社   \n",
       "8                   中國邊疆民族與環太平洋文化         凌純聲           聯經出版事業股份有限公司   \n",
       "9                            两面间谍     约翰·马斯特曼                  群众出版社   \n",
       "\n",
       "                  出版时间   页数   价格           ISBN   评分  评论数量  出版年份  \n",
       "0                2008/  224  0.0  9788881133581  9.4    69  2008  \n",
       "1  1905-03-14 00:00:00    0  0.0  9787811074710  0.0     0  1905  \n",
       "2  1905-04-28 00:00:00  262  0.0  9780394717036  0.0     0  1905  \n",
       "3  1905-05-07 00:00:00  208  0.0           None  0.0     0  1905  \n",
       "4  1905-05-08 00:00:00  172  0.0           None  0.0     0  1905  \n",
       "5  1905-05-10 00:00:00  922  0.0           None  0.0     0  1905  \n",
       "6  1905-05-10 00:00:00   96  0.0           None  0.0     0  1905  \n",
       "7  1905-05-29 00:00:00  148  0.0           None  0.0     0  1905  \n",
       "8  1905-06-01 00:00:00    0  0.0  9789106796871  0.0     0  1905  \n",
       "9  1905-06-01 00:00:00  182  0.0           None  0.0     0  1905  "
      ]
     },
     "execution_count": 30,
     "metadata": {},
     "output_type": "execute_result"
    }
   ],
   "source": [
    "df.head(10)"
   ]
  },
  {
   "cell_type": "code",
   "execution_count": 31,
   "metadata": {},
   "outputs": [
    {
     "data": {
      "text/html": [
       "<div>\n",
       "<style scoped>\n",
       "    .dataframe tbody tr th:only-of-type {\n",
       "        vertical-align: middle;\n",
       "    }\n",
       "\n",
       "    .dataframe tbody tr th {\n",
       "        vertical-align: top;\n",
       "    }\n",
       "\n",
       "    .dataframe thead th {\n",
       "        text-align: right;\n",
       "    }\n",
       "</style>\n",
       "<table border=\"1\" class=\"dataframe\">\n",
       "  <thead>\n",
       "    <tr style=\"text-align: right;\">\n",
       "      <th></th>\n",
       "      <th>书名</th>\n",
       "      <th>作者</th>\n",
       "      <th>出版社</th>\n",
       "      <th>出版时间</th>\n",
       "      <th>页数</th>\n",
       "      <th>价格</th>\n",
       "      <th>ISBN</th>\n",
       "      <th>评分</th>\n",
       "      <th>评论数量</th>\n",
       "      <th>出版年份</th>\n",
       "    </tr>\n",
       "  </thead>\n",
       "  <tbody>\n",
       "    <tr>\n",
       "      <th>27143</th>\n",
       "      <td>JavaScript模式</td>\n",
       "      <td>Stoyan Stefanov</td>\n",
       "      <td>中国电力出版社</td>\n",
       "      <td>2012/7</td>\n",
       "      <td>208</td>\n",
       "      <td>38.00</td>\n",
       "      <td>9787512329232</td>\n",
       "      <td>8.6</td>\n",
       "      <td>194</td>\n",
       "      <td>2012</td>\n",
       "    </tr>\n",
       "    <tr>\n",
       "      <th>25495</th>\n",
       "      <td>女人明白要趁早之米字路口问答</td>\n",
       "      <td>王潇</td>\n",
       "      <td>北京联合出版公司</td>\n",
       "      <td>2014/12/1</td>\n",
       "      <td>227</td>\n",
       "      <td>39.00</td>\n",
       "      <td>9787550238183</td>\n",
       "      <td>7.7</td>\n",
       "      <td>416</td>\n",
       "      <td>2014</td>\n",
       "    </tr>\n",
       "    <tr>\n",
       "      <th>54393</th>\n",
       "      <td>乡村社会中的革命</td>\n",
       "      <td>陈德军</td>\n",
       "      <td>上海大学出版社</td>\n",
       "      <td>2004/08/01</td>\n",
       "      <td>224</td>\n",
       "      <td>17.20</td>\n",
       "      <td>9787810587358</td>\n",
       "      <td>8.1</td>\n",
       "      <td>19</td>\n",
       "      <td>2004</td>\n",
       "    </tr>\n",
       "    <tr>\n",
       "      <th>33967</th>\n",
       "      <td>职场急诊室</td>\n",
       "      <td>刘同</td>\n",
       "      <td>人民邮电出版社</td>\n",
       "      <td>2012/4</td>\n",
       "      <td>245</td>\n",
       "      <td>32.00</td>\n",
       "      <td>9787115279668</td>\n",
       "      <td>7.6</td>\n",
       "      <td>467</td>\n",
       "      <td>2012</td>\n",
       "    </tr>\n",
       "    <tr>\n",
       "      <th>51049</th>\n",
       "      <td>酒徒</td>\n",
       "      <td>刘以鬯</td>\n",
       "      <td>江苏文艺出版社</td>\n",
       "      <td>2011/6</td>\n",
       "      <td>227</td>\n",
       "      <td>20.00</td>\n",
       "      <td>9787539944227</td>\n",
       "      <td>8.5</td>\n",
       "      <td>440</td>\n",
       "      <td>2011</td>\n",
       "    </tr>\n",
       "    <tr>\n",
       "      <th>34444</th>\n",
       "      <td>做事坚定，做人柔软</td>\n",
       "      <td>[台] 丁菱娟</td>\n",
       "      <td>浙江大学出版社</td>\n",
       "      <td>2014/2/28</td>\n",
       "      <td>211</td>\n",
       "      <td>32.00</td>\n",
       "      <td>9787308127721</td>\n",
       "      <td>7.3</td>\n",
       "      <td>127</td>\n",
       "      <td>2014</td>\n",
       "    </tr>\n",
       "    <tr>\n",
       "      <th>51237</th>\n",
       "      <td>达利画传</td>\n",
       "      <td>读图时代</td>\n",
       "      <td>时代文艺出版社</td>\n",
       "      <td>2004/1/1</td>\n",
       "      <td>146</td>\n",
       "      <td>20.00</td>\n",
       "      <td>9787538718751</td>\n",
       "      <td>8.2</td>\n",
       "      <td>203</td>\n",
       "      <td>2004</td>\n",
       "    </tr>\n",
       "    <tr>\n",
       "      <th>30195</th>\n",
       "      <td>Upheavals of Thought</td>\n",
       "      <td>Martha C. Nussbaum</td>\n",
       "      <td>Cambridge University Press</td>\n",
       "      <td>2003/4/14</td>\n",
       "      <td>766</td>\n",
       "      <td>35.99</td>\n",
       "      <td>9780521531825</td>\n",
       "      <td>0.0</td>\n",
       "      <td>0</td>\n",
       "      <td>2003</td>\n",
       "    </tr>\n",
       "    <tr>\n",
       "      <th>42570</th>\n",
       "      <td>颠倒岁月</td>\n",
       "      <td>徐小棣</td>\n",
       "      <td>生活·读书·新知三联书店</td>\n",
       "      <td>2012/8</td>\n",
       "      <td>325</td>\n",
       "      <td>27.00</td>\n",
       "      <td>9787108040855</td>\n",
       "      <td>8.4</td>\n",
       "      <td>100</td>\n",
       "      <td>2012</td>\n",
       "    </tr>\n",
       "    <tr>\n",
       "      <th>31387</th>\n",
       "      <td>China Marches West</td>\n",
       "      <td>Peter C. Perdue</td>\n",
       "      <td>Belknap Press</td>\n",
       "      <td>2005/4/30</td>\n",
       "      <td>752</td>\n",
       "      <td>35.00</td>\n",
       "      <td>9780674016842</td>\n",
       "      <td>9.0</td>\n",
       "      <td>88</td>\n",
       "      <td>2005</td>\n",
       "    </tr>\n",
       "  </tbody>\n",
       "</table>\n",
       "</div>"
      ],
      "text/plain": [
       "                         书名                  作者                          出版社  \\\n",
       "27143          JavaScript模式     Stoyan Stefanov                      中国电力出版社   \n",
       "25495        女人明白要趁早之米字路口问答                  王潇                     北京联合出版公司   \n",
       "54393              乡村社会中的革命                 陈德军                      上海大学出版社   \n",
       "33967                 职场急诊室                  刘同                      人民邮电出版社   \n",
       "51049                    酒徒                 刘以鬯                      江苏文艺出版社   \n",
       "34444             做事坚定，做人柔软             [台] 丁菱娟                      浙江大学出版社   \n",
       "51237                  达利画传                读图时代                      时代文艺出版社   \n",
       "30195  Upheavals of Thought  Martha C. Nussbaum   Cambridge University Press   \n",
       "42570                  颠倒岁月                 徐小棣                 生活·读书·新知三联书店   \n",
       "31387    China Marches West     Peter C. Perdue                Belknap Press   \n",
       "\n",
       "              出版时间   页数     价格           ISBN   评分  评论数量  出版年份  \n",
       "27143       2012/7  208  38.00  9787512329232  8.6   194  2012  \n",
       "25495    2014/12/1  227  39.00  9787550238183  7.7   416  2014  \n",
       "54393   2004/08/01  224  17.20  9787810587358  8.1    19  2004  \n",
       "33967       2012/4  245  32.00  9787115279668  7.6   467  2012  \n",
       "51049       2011/6  227  20.00  9787539944227  8.5   440  2011  \n",
       "34444    2014/2/28  211  32.00  9787308127721  7.3   127  2014  \n",
       "51237     2004/1/1  146  20.00  9787538718751  8.2   203  2004  \n",
       "30195    2003/4/14  766  35.99  9780521531825  0.0     0  2003  \n",
       "42570       2012/8  325  27.00  9787108040855  8.4   100  2012  \n",
       "31387    2005/4/30  752  35.00  9780674016842  9.0    88  2005  "
      ]
     },
     "execution_count": 31,
     "metadata": {},
     "output_type": "execute_result"
    }
   ],
   "source": [
    "df.sample(10)"
   ]
  },
  {
   "cell_type": "code",
   "execution_count": 32,
   "metadata": {},
   "outputs": [
    {
     "data": {
      "text/plain": [
       "1035"
      ]
     },
     "execution_count": 32,
     "metadata": {},
     "output_type": "execute_result"
    }
   ],
   "source": [
    "len(df[df['出版年份'] == ''])"
   ]
  },
  {
   "cell_type": "code",
   "execution_count": 33,
   "metadata": {},
   "outputs": [
    {
     "data": {
      "text/plain": [
       "count     60671\n",
       "unique       85\n",
       "top        2011\n",
       "freq       4441\n",
       "Name: 出版年份, dtype: object"
      ]
     },
     "execution_count": 33,
     "metadata": {},
     "output_type": "execute_result"
    }
   ],
   "source": [
    "df['出版年份'].describe()"
   ]
  },
  {
   "cell_type": "markdown",
   "metadata": {},
   "source": [
    "## 分析图书数量与年份的关系"
   ]
  },
  {
   "cell_type": "code",
   "execution_count": 34,
   "metadata": {},
   "outputs": [],
   "source": [
    "# 分析书的数量与年份的关系\n",
    "\n",
    "# 按出版年份进行分组\n",
    "grouped = df.groupby('出版年份')"
   ]
  },
  {
   "cell_type": "code",
   "execution_count": 35,
   "metadata": {},
   "outputs": [],
   "source": [
    "data = grouped['ISBN'].count()\n",
    "#data"
   ]
  },
  {
   "cell_type": "code",
   "execution_count": 36,
   "metadata": {},
   "outputs": [
    {
     "data": {
      "text/html": [
       "<div>\n",
       "<style scoped>\n",
       "    .dataframe tbody tr th:only-of-type {\n",
       "        vertical-align: middle;\n",
       "    }\n",
       "\n",
       "    .dataframe tbody tr th {\n",
       "        vertical-align: top;\n",
       "    }\n",
       "\n",
       "    .dataframe thead th {\n",
       "        text-align: right;\n",
       "    }\n",
       "</style>\n",
       "<table border=\"1\" class=\"dataframe\">\n",
       "  <thead>\n",
       "    <tr style=\"text-align: right;\">\n",
       "      <th></th>\n",
       "      <th>书名</th>\n",
       "      <th>作者</th>\n",
       "      <th>出版社</th>\n",
       "      <th>出版时间</th>\n",
       "      <th>页数</th>\n",
       "      <th>价格</th>\n",
       "      <th>ISBN</th>\n",
       "      <th>评分</th>\n",
       "      <th>评论数量</th>\n",
       "      <th>出版年份</th>\n",
       "    </tr>\n",
       "  </thead>\n",
       "  <tbody>\n",
       "    <tr>\n",
       "      <th>60632</th>\n",
       "      <td>鲁迅作品中的绍兴方言注释</td>\n",
       "      <td>谢德铣</td>\n",
       "      <td>浙江人民出版社</td>\n",
       "      <td>１９７９/初版印</td>\n",
       "      <td>110</td>\n",
       "      <td>0.24</td>\n",
       "      <td>None</td>\n",
       "      <td>0.0</td>\n",
       "      <td>0</td>\n",
       "      <td>１９７９</td>\n",
       "    </tr>\n",
       "  </tbody>\n",
       "</table>\n",
       "</div>"
      ],
      "text/plain": [
       "                 书名   作者       出版社       出版时间   页数    价格  ISBN   评分  评论数量  \\\n",
       "60632  鲁迅作品中的绍兴方言注释  谢德铣   浙江人民出版社   １９７９/初版印  110  0.24  None  0.0     0   \n",
       "\n",
       "       出版年份  \n",
       "60632  １９７９  "
      ]
     },
     "execution_count": 36,
     "metadata": {},
     "output_type": "execute_result"
    }
   ],
   "source": [
    "# 手动修改 １９７９ 和 ２００２ 这两个数据\n",
    "\n",
    "df[df['出版年份'] == '１９７９']"
   ]
  },
  {
   "cell_type": "code",
   "execution_count": 37,
   "metadata": {},
   "outputs": [
    {
     "data": {
      "text/plain": [
       "书名      鲁迅作品中的绍兴方言注释\n",
       "出版时间        １９７９/初版印\n",
       "出版年份            １９７９\n",
       "Name: 60632, dtype: object"
      ]
     },
     "execution_count": 37,
     "metadata": {},
     "output_type": "execute_result"
    }
   ],
   "source": [
    "df.loc[df.index[60632], ['书名', '出版时间', '出版年份']]"
   ]
  },
  {
   "cell_type": "code",
   "execution_count": 38,
   "metadata": {},
   "outputs": [],
   "source": [
    "df.loc[df.index[60632], ['出版年份']] = '1979'"
   ]
  },
  {
   "cell_type": "code",
   "execution_count": 39,
   "metadata": {},
   "outputs": [
    {
     "data": {
      "text/plain": [
       "书名      鲁迅作品中的绍兴方言注释\n",
       "出版时间        １９７９/初版印\n",
       "出版年份            1979\n",
       "Name: 60632, dtype: object"
      ]
     },
     "execution_count": 39,
     "metadata": {},
     "output_type": "execute_result"
    }
   ],
   "source": [
    "df.loc[df.index[60632], ['书名', '出版时间', '出版年份']]"
   ]
  },
  {
   "cell_type": "code",
   "execution_count": 40,
   "metadata": {},
   "outputs": [
    {
     "data": {
      "text/html": [
       "<div>\n",
       "<style scoped>\n",
       "    .dataframe tbody tr th:only-of-type {\n",
       "        vertical-align: middle;\n",
       "    }\n",
       "\n",
       "    .dataframe tbody tr th {\n",
       "        vertical-align: top;\n",
       "    }\n",
       "\n",
       "    .dataframe thead th {\n",
       "        text-align: right;\n",
       "    }\n",
       "</style>\n",
       "<table border=\"1\" class=\"dataframe\">\n",
       "  <thead>\n",
       "    <tr style=\"text-align: right;\">\n",
       "      <th></th>\n",
       "      <th>书名</th>\n",
       "      <th>作者</th>\n",
       "      <th>出版社</th>\n",
       "      <th>出版时间</th>\n",
       "      <th>页数</th>\n",
       "      <th>价格</th>\n",
       "      <th>ISBN</th>\n",
       "      <th>评分</th>\n",
       "      <th>评论数量</th>\n",
       "      <th>出版年份</th>\n",
       "    </tr>\n",
       "  </thead>\n",
       "  <tbody>\n",
       "    <tr>\n",
       "      <th>4544</th>\n",
       "      <td>俄罗斯插画作品集</td>\n",
       "      <td>None</td>\n",
       "      <td>财团法人中华图书出版事业发展基金会</td>\n",
       "      <td>２００２/２</td>\n",
       "      <td>208</td>\n",
       "      <td>800.0</td>\n",
       "      <td>9789868003712</td>\n",
       "      <td>8.0</td>\n",
       "      <td>16</td>\n",
       "      <td>２００２</td>\n",
       "    </tr>\n",
       "  </tbody>\n",
       "</table>\n",
       "</div>"
      ],
      "text/plain": [
       "            书名    作者                 出版社     出版时间   页数     价格           ISBN  \\\n",
       "4544  俄罗斯插画作品集  None   财团法人中华图书出版事业发展基金会   ２００２/２  208  800.0  9789868003712   \n",
       "\n",
       "       评分  评论数量  出版年份  \n",
       "4544  8.0    16  ２００２  "
      ]
     },
     "execution_count": 40,
     "metadata": {},
     "output_type": "execute_result"
    }
   ],
   "source": [
    "df[df['出版年份'] == '２００２']"
   ]
  },
  {
   "cell_type": "code",
   "execution_count": 41,
   "metadata": {},
   "outputs": [
    {
     "data": {
      "text/plain": [
       "书名      俄罗斯插画作品集\n",
       "出版时间      ２００２/２\n",
       "出版年份        ２００２\n",
       "Name: 4544, dtype: object"
      ]
     },
     "execution_count": 41,
     "metadata": {},
     "output_type": "execute_result"
    }
   ],
   "source": [
    "df.loc[df.index[4544], ['书名', '出版时间', '出版年份']]"
   ]
  },
  {
   "cell_type": "code",
   "execution_count": 42,
   "metadata": {},
   "outputs": [],
   "source": [
    "df.loc[df.index[4544], ['出版年份']] = '2002'"
   ]
  },
  {
   "cell_type": "code",
   "execution_count": 43,
   "metadata": {},
   "outputs": [
    {
     "data": {
      "text/plain": [
       "书名      俄罗斯插画作品集\n",
       "出版时间      ２００２/２\n",
       "出版年份        2002\n",
       "Name: 4544, dtype: object"
      ]
     },
     "execution_count": 43,
     "metadata": {},
     "output_type": "execute_result"
    }
   ],
   "source": [
    "df.loc[df.index[4544], ['书名', '出版时间', '出版年份']]"
   ]
  },
  {
   "cell_type": "code",
   "execution_count": 44,
   "metadata": {},
   "outputs": [],
   "source": [
    "grouped = df.groupby('出版年份')\n",
    "data = grouped['ISBN'].count()\n",
    "#data"
   ]
  },
  {
   "cell_type": "code",
   "execution_count": 45,
   "metadata": {},
   "outputs": [],
   "source": [
    "# 删除前7后4的数据\n",
    "\n",
    "data2 = data[7:-4]\n",
    "#data2"
   ]
  },
  {
   "cell_type": "code",
   "execution_count": 46,
   "metadata": {},
   "outputs": [
    {
     "data": {
      "image/png": "[encoded data removed]",
      "text/plain": [
       "<Figure size 1080x360 with 1 Axes>"
      ]
     },
     "metadata": {
      "needs_background": "light"
     },
     "output_type": "display_data"
    }
   ],
   "source": [
    "# 折线图反映年份和出版图书数量的关系\n",
    "\n",
    "# 设置宽一点\n",
    "plt.figure(figsize=(15, 5))\n",
    "# 设置 x 周标签的倾斜角度\n",
    "plt.xticks(rotation=60)\n",
    "\n",
    "plt.xlabel('年份')\n",
    "plt.ylabel('图书数量')\n",
    "\n",
    "plt.plot(data2.index, data2.values)\n",
    "plt.show()"
   ]
  },
  {
   "cell_type": "markdown",
   "metadata": {},
   "source": [
    "## 分析图书的评分与年代之间是否有关系"
   ]
  },
  {
   "cell_type": "code",
   "execution_count": 47,
   "metadata": {},
   "outputs": [],
   "source": [
    "# 分析书籍的评分与年代之间是否有关系\n",
    "\n",
    "data3 = grouped['评分'].mean()\n",
    "#data3"
   ]
  },
  {
   "cell_type": "code",
   "execution_count": 48,
   "metadata": {},
   "outputs": [],
   "source": [
    "data3 = data3[7:-4]\n",
    "#data3"
   ]
  },
  {
   "cell_type": "code",
   "execution_count": 49,
   "metadata": {},
   "outputs": [
    {
     "data": {
      "image/png": "[encoded data removed]",
      "text/plain": [
       "<Figure size 1080x360 with 1 Axes>"
      ]
     },
     "metadata": {
      "needs_background": "light"
     },
     "output_type": "display_data"
    }
   ],
   "source": [
    "# 折线图反映年份和评分之间的关系\n",
    "\n",
    "# 设置宽一点\n",
    "plt.figure(figsize=(15, 5))\n",
    "# 设置 x 周标签的倾斜角度\n",
    "plt.xticks(rotation=60)\n",
    "plt.xlabel('出版年份')\n",
    "plt.ylabel('评分')\n",
    "\n",
    "plt.plot(data3.index, data3.values)\n",
    "\n",
    "# 均值\n",
    "m = data3.values.mean()\n",
    "plt.plot(data3.index, [m]*len(data3.index))\n",
    "\n",
    "plt.show()"
   ]
  },
  {
   "cell_type": "markdown",
   "metadata": {},
   "source": [
    "## 分析图书价格分布情况"
   ]
  },
  {
   "cell_type": "code",
   "execution_count": 50,
   "metadata": {},
   "outputs": [],
   "source": [
    "# 图书价格\n",
    "\n",
    "df2 = df[df['价格'] > 0]"
   ]
  },
  {
   "cell_type": "code",
   "execution_count": 51,
   "metadata": {},
   "outputs": [
    {
     "data": {
      "text/plain": [
       "57454"
      ]
     },
     "execution_count": 51,
     "metadata": {},
     "output_type": "execute_result"
    }
   ],
   "source": [
    "len(df2)"
   ]
  },
  {
   "cell_type": "code",
   "execution_count": 52,
   "metadata": {},
   "outputs": [
    {
     "data": {
      "text/plain": [
       "count    5.745400e+04\n",
       "mean     1.424121e+02\n",
       "std      1.006036e+04\n",
       "min      1.000000e-02\n",
       "25%      2.500000e+01\n",
       "50%      3.500000e+01\n",
       "75%      4.990000e+01\n",
       "max      2.336095e+06\n",
       "Name: 价格, dtype: float64"
      ]
     },
     "execution_count": 52,
     "metadata": {},
     "output_type": "execute_result"
    }
   ],
   "source": [
    "df2['价格'].describe()"
   ]
  },
  {
   "cell_type": "code",
   "execution_count": 53,
   "metadata": {},
   "outputs": [
    {
     "data": {
      "image/png": "[encoded data removed]",
      "text/plain": [
       "<Figure size 1080x360 with 1 Axes>"
      ]
     },
     "metadata": {
      "needs_background": "light"
     },
     "output_type": "display_data"
    }
   ],
   "source": [
    "# 直方图显示图书价格分布情况\n",
    "\n",
    "plt.figure(figsize=(15, 5))\n",
    "plt.hist(df2['价格'], bins=40, range=(0, 200), rwidth=0.8)\n",
    "plt.show()"
   ]
  },
  {
   "cell_type": "code",
   "execution_count": 54,
   "metadata": {},
   "outputs": [
    {
     "data": {
      "text/plain": [
       "2244"
      ]
     },
     "execution_count": 54,
     "metadata": {},
     "output_type": "execute_result"
    }
   ],
   "source": [
    "# 柱形图\n",
    "\n",
    "df2[(df2['价格']>=0) & (df2['价格']<10)].shape[0]"
   ]
  },
  {
   "cell_type": "code",
   "execution_count": 55,
   "metadata": {},
   "outputs": [
    {
     "data": {
      "text/plain": [
       "6530"
      ]
     },
     "execution_count": 55,
     "metadata": {},
     "output_type": "execute_result"
    }
   ],
   "source": [
    "df2[(df2['价格']>=10) & (df2['价格']<20)].shape[0]"
   ]
  },
  {
   "cell_type": "code",
   "execution_count": 56,
   "metadata": {},
   "outputs": [],
   "source": [
    "step = 10\n",
    "count = 20\n",
    "x = []\n",
    "y = []\n",
    "for i in range(count):\n",
    "    y.append(df2[(df2['价格']>=i*step) & (df2['价格']<i*step+step)].shape[0])\n",
    "y.append(df2[df2['价格']>=count*step].shape[0])\n",
    "\n",
    "for i in range(count):\n",
    "    x.append(str(i*step)+'-'+str(i*step+step))\n",
    "x.append('>'+str(count*step))    "
   ]
  },
  {
   "cell_type": "code",
   "execution_count": 57,
   "metadata": {},
   "outputs": [
    {
     "data": {
      "text/plain": [
       "21"
      ]
     },
     "execution_count": 57,
     "metadata": {},
     "output_type": "execute_result"
    }
   ],
   "source": [
    "len(x)"
   ]
  },
  {
   "cell_type": "code",
   "execution_count": 58,
   "metadata": {},
   "outputs": [
    {
     "data": {
      "text/plain": [
       "21"
      ]
     },
     "execution_count": 58,
     "metadata": {},
     "output_type": "execute_result"
    }
   ],
   "source": [
    "len(y)"
   ]
  },
  {
   "cell_type": "code",
   "execution_count": 59,
   "metadata": {},
   "outputs": [
    {
     "data": {
      "image/png": "[encoded data removed]",
      "text/plain": [
       "<Figure size 1080x360 with 1 Axes>"
      ]
     },
     "metadata": {
      "needs_background": "light"
     },
     "output_type": "display_data"
    }
   ],
   "source": [
    "plt.figure(figsize=(15, 5))\n",
    "plt.xticks(rotation=30)\n",
    "plt.title('图书价格分布')\n",
    "plt.bar(x, y)\n",
    "plt.show()"
   ]
  },
  {
   "cell_type": "markdown",
   "metadata": {},
   "source": [
    "## 出版书籍最多的20个出版社"
   ]
  },
  {
   "cell_type": "code",
   "execution_count": 60,
   "metadata": {},
   "outputs": [],
   "source": [
    "# 出版书籍最多的20个出版社\n",
    "\n",
    "data4 = df.groupby('出版社')['ISBN'].count()"
   ]
  },
  {
   "cell_type": "code",
   "execution_count": 61,
   "metadata": {},
   "outputs": [],
   "source": [
    "#data4 = data4.sort_values()\n",
    "# 最大的是 None，要去掉\n",
    "#data4 = data4[:-1]\n",
    "#data4"
   ]
  },
  {
   "cell_type": "code",
   "execution_count": 62,
   "metadata": {},
   "outputs": [
    {
     "data": {
      "image/png": "[encoded data removed]",
      "text/plain": [
       "<Figure size 1080x360 with 1 Axes>"
      ]
     },
     "metadata": {
      "needs_background": "light"
     },
     "output_type": "display_data"
    }
   ],
   "source": [
    "plt.figure(figsize=(15, 5))\n",
    "plt.title('高产出版社 Top20')\n",
    "\n",
    "# 最多的是 None，要去掉，所以选择 -21:-1\n",
    "data4.sort_values()[-21:-1].plot(kind='bar')\n",
    "plt.show()"
   ]
  },
  {
   "cell_type": "markdown",
   "metadata": {},
   "source": [
    "## 评分较高的出版社"
   ]
  },
  {
   "cell_type": "code",
   "execution_count": 63,
   "metadata": {},
   "outputs": [
    {
     "data": {
      "image/png": "[encoded data removed]",
      "text/plain": [
       "<Figure size 1080x360 with 1 Axes>"
      ]
     },
     "metadata": {
      "needs_background": "light"
     },
     "output_type": "display_data"
    }
   ],
   "source": [
    "# 评分较高的出版社\n",
    "\n",
    "plt.figure(figsize=(15, 5))\n",
    "plt.title('好评出版社 Top20')\n",
    "\n",
    "data5 = df.groupby('出版社')['评分'].mean()\n",
    "data5.sort_values()[-20:].plot(kind='bar')\n",
    "plt.show()"
   ]
  },
  {
   "cell_type": "markdown",
   "metadata": {},
   "source": [
    "## 出书较多的作者"
   ]
  },
  {
   "cell_type": "code",
   "execution_count": 64,
   "metadata": {},
   "outputs": [
    {
     "data": {
      "image/png": "[encoded data removed]",
      "text/plain": [
       "<Figure size 1080x360 with 1 Axes>"
      ]
     },
     "metadata": {
      "needs_background": "light"
     },
     "output_type": "display_data"
    }
   ],
   "source": [
    "# 出书较多的作者\n",
    "\n",
    "plt.figure(figsize=(15, 5))\n",
    "plt.title('作者 Top20')\n",
    "\n",
    "data6 = df.groupby('作者')['ISBN'].count()\n",
    "data6.sort_values()[-21:-1].plot(kind='bar')\n",
    "plt.show()"
   ]
  },
  {
   "cell_type": "markdown",
   "metadata": {},
   "source": [
    "## 评分高低与评论数量之间是否存在某种关系"
   ]
  },
  {
   "cell_type": "code",
   "execution_count": 65,
   "metadata": {},
   "outputs": [
    {
     "data": {
      "text/html": [
       "<div>\n",
       "<style scoped>\n",
       "    .dataframe tbody tr th:only-of-type {\n",
       "        vertical-align: middle;\n",
       "    }\n",
       "\n",
       "    .dataframe tbody tr th {\n",
       "        vertical-align: top;\n",
       "    }\n",
       "\n",
       "    .dataframe thead th {\n",
       "        text-align: right;\n",
       "    }\n",
       "</style>\n",
       "<table border=\"1\" class=\"dataframe\">\n",
       "  <thead>\n",
       "    <tr style=\"text-align: right;\">\n",
       "      <th></th>\n",
       "      <th>页数</th>\n",
       "      <th>价格</th>\n",
       "      <th>评分</th>\n",
       "      <th>评论数量</th>\n",
       "    </tr>\n",
       "  </thead>\n",
       "  <tbody>\n",
       "    <tr>\n",
       "      <th>页数</th>\n",
       "      <td>1.000000</td>\n",
       "      <td>-0.000030</td>\n",
       "      <td>0.003157</td>\n",
       "      <td>-0.000658</td>\n",
       "    </tr>\n",
       "    <tr>\n",
       "      <th>价格</th>\n",
       "      <td>-0.000030</td>\n",
       "      <td>1.000000</td>\n",
       "      <td>0.001443</td>\n",
       "      <td>-0.001673</td>\n",
       "    </tr>\n",
       "    <tr>\n",
       "      <th>评分</th>\n",
       "      <td>0.003157</td>\n",
       "      <td>0.001443</td>\n",
       "      <td>1.000000</td>\n",
       "      <td>0.063536</td>\n",
       "    </tr>\n",
       "    <tr>\n",
       "      <th>评论数量</th>\n",
       "      <td>-0.000658</td>\n",
       "      <td>-0.001673</td>\n",
       "      <td>0.063536</td>\n",
       "      <td>1.000000</td>\n",
       "    </tr>\n",
       "  </tbody>\n",
       "</table>\n",
       "</div>"
      ],
      "text/plain": [
       "            页数        价格        评分      评论数量\n",
       "页数    1.000000 -0.000030  0.003157 -0.000658\n",
       "价格   -0.000030  1.000000  0.001443 -0.001673\n",
       "评分    0.003157  0.001443  1.000000  0.063536\n",
       "评论数量 -0.000658 -0.001673  0.063536  1.000000"
      ]
     },
     "execution_count": 65,
     "metadata": {},
     "output_type": "execute_result"
    }
   ],
   "source": [
    "df.corr()"
   ]
  },
  {
   "cell_type": "code",
   "execution_count": 66,
   "metadata": {},
   "outputs": [
    {
     "data": {
      "image/png": "[encoded data removed]",
      "text/plain": [
       "<Figure size 432x288 with 2 Axes>"
      ]
     },
     "metadata": {
      "needs_background": "light"
     },
     "output_type": "display_data"
    }
   ],
   "source": [
    "# 评分高低与评论数量之间是否存在某种关系\n",
    "\n",
    "import seaborn as sns\n",
    "\n",
    "# 计算相关性矩阵\n",
    "corr = df.corr()\n",
    "sns.heatmap(corr, cmap=sns.color_palette('Blues'))\n",
    "plt.show()"
   ]
  },
  {
   "cell_type": "markdown",
   "metadata": {},
   "source": [
    "### 评分高低与评论数量之间没有明显关系"
   ]
  },
  {
   "cell_type": "code",
   "execution_count": null,
   "metadata": {},
   "outputs": [],
   "source": []
  }
 ],
 "metadata": {
  "kernelspec": {
   "display_name": "Python 3",
   "language": "python",
   "name": "python3"
  },
  "language_info": {
   "codemirror_mode": {
    "name": "ipython",
    "version": 3
   },
   "file_extension": ".py",
   "mimetype": "text/x-python",
   "name": "python",
   "nbconvert_exporter": "python",
   "pygments_lexer": "ipython3",
   "version": "3.5.2"
  }
 },
 "nbformat": 4,
 "nbformat_minor": 2
}
